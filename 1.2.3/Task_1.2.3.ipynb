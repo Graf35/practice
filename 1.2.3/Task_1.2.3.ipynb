{
 "cells": [
  {
   "cell_type": "code",
   "execution_count": 1,
   "id": "b37d5a39",
   "metadata": {},
   "outputs": [
    {
     "name": "stdout",
     "output_type": "stream",
     "text": [
      "just right\n"
     ]
    }
   ],
   "source": [
    "guess_me=7\n",
    "if guess_me>7:\n",
    "    print(\"too high\")\n",
    "elif guess_me<7:\n",
    "    print(\"too low\")\n",
    "else:\n",
    "    print(\"just right\")"
   ]
  },
  {
   "cell_type": "code",
   "execution_count": 29,
   "id": "f334a3e0",
   "metadata": {},
   "outputs": [
    {
     "name": "stdout",
     "output_type": "stream",
     "text": [
      "too low\n",
      "too low\n",
      "too low\n",
      "too low\n",
      "too low\n",
      "oops\n"
     ]
    }
   ],
   "source": [
    "from random import randint\n",
    "\n",
    "guess_me=7\n",
    "start=1\n",
    "flag=False\n",
    "while flag==False:\n",
    "    if start>guess_me:\n",
    "        print(\"oops\")\n",
    "        flag=True\n",
    "    elif start<guess_me:\n",
    "        print(\"too low\")\n",
    "        start=+randint(0,10)\n",
    "    else:\n",
    "        print(\"found it\")\n",
    "        flag=True"
   ]
  },
  {
   "cell_type": "code",
   "execution_count": 30,
   "id": "b2d9f1bc",
   "metadata": {},
   "outputs": [
    {
     "name": "stdout",
     "output_type": "stream",
     "text": [
      "3\n",
      "2\n",
      "1\n",
      "0\n"
     ]
    }
   ],
   "source": [
    "list=[3,2,1,0]\n",
    "for i in range(len(list)):\n",
    "    print(list[i])"
   ]
  },
  {
   "cell_type": "code",
   "execution_count": 31,
   "id": "1a56f94f",
   "metadata": {},
   "outputs": [
    {
     "name": "stdout",
     "output_type": "stream",
     "text": [
      "[1, 3, 5, 7, 9, 11, 13]\n"
     ]
    }
   ],
   "source": [
    "list=[]\n",
    "for i in range (1,15,2):\n",
    "    list.append(i)\n",
    "print(list)"
   ]
  },
  {
   "cell_type": "code",
   "execution_count": 34,
   "id": "70f6830a",
   "metadata": {},
   "outputs": [
    {
     "name": "stdout",
     "output_type": "stream",
     "text": [
      "<function good at 0x0000026F6367CAF0>\n"
     ]
    }
   ],
   "source": [
    "def good():\n",
    "    return(['Harry', 'Ron', 'Hermione'])"
   ]
  },
  {
   "cell_type": "code",
   "execution_count": 41,
   "id": "cb3ab9cb",
   "metadata": {},
   "outputs": [],
   "source": [
    "def  multiplication(a, b):\n",
    "    if a%2==0 and b%2==0:\n",
    "        return(a*b)\n",
    "    else:\n",
    "        return(-1)"
   ]
  },
  {
   "cell_type": "code",
   "execution_count": null,
   "id": "03e24210",
   "metadata": {},
   "outputs": [],
   "source": []
  }
 ],
 "metadata": {
  "kernelspec": {
   "display_name": "Python 3",
   "language": "python",
   "name": "python3"
  },
  "language_info": {
   "codemirror_mode": {
    "name": "ipython",
    "version": 3
   },
   "file_extension": ".py",
   "mimetype": "text/x-python",
   "name": "python",
   "nbconvert_exporter": "python",
   "pygments_lexer": "ipython3",
   "version": "3.8.8"
  }
 },
 "nbformat": 4,
 "nbformat_minor": 5
}
