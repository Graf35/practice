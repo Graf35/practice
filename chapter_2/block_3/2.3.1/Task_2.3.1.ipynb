{
 "cells": [
  {
   "cell_type": "code",
   "execution_count": 1,
   "metadata": {
    "executionInfo": {
     "elapsed": 5,
     "status": "ok",
     "timestamp": 1647764559185,
     "user": {
      "displayName": "Graf 35",
      "photoUrl": "https://lh3.googleusercontent.com/a-/AOh14GgcHDyJQ1MQQIBBCZd9xV6NvKbKPsBBOPGCn3HJBA=s64",
      "userId": "13859350482968645708"
     },
     "user_tz": -180
    },
    "id": "WSTw7zzvaTow"
   },
   "outputs": [],
   "source": [
    "MALE_WORDS = set(['парень',\n",
    "'представитель', 'председатель',\n",
    "'мужской', 'мужчина', 'он', 'ему', 'его',\n",
    "'мальчик', 'бойфренд', 'бойфренды',\n",
    "'мальчики', 'брат', 'братья', 'папа',\n",
    "'папы', 'чувак', 'отец', 'отцы', 'жених',\n",
    "'джентльмен', 'джентльмены', 'бог',\n",
    "'дедушка', 'старик', 'внук', 'жених', 'он',\n",
    "'сам', 'муж', 'мужья', 'король',\n",
    "'мужчины', 'мистер', 'господин',\n",
    "'племянник', 'племянники',\n",
    "'священник', 'принц', 'сын', 'сыновья',\n",
    "'дядя', 'дяди', 'официант', 'вдовец',\n",
    "'вдовцы'])\n",
    "#Множество мужских слов"
   ]
  },
  {
   "cell_type": "code",
   "execution_count": 2,
   "metadata": {
    "executionInfo": {
     "elapsed": 3,
     "status": "ok",
     "timestamp": 1647764559579,
     "user": {
      "displayName": "Graf 35",
      "photoUrl": "https://lh3.googleusercontent.com/a-/AOh14GgcHDyJQ1MQQIBBCZd9xV6NvKbKPsBBOPGCn3HJBA=s64",
      "userId": "13859350482968645708"
     },
     "user_tz": -180
    },
    "id": "cGrstOlga6tq"
   },
   "outputs": [],
   "source": [
    "FEMALE_WORDS = set(['героиня', 'представительница',\n",
    "'председательница', 'женщина',\n",
    "'актриса', 'женщины', 'она', 'ее', 'тетя',\n",
    "'тети', 'невеста', 'дочь', 'дочери',\n",
    "'женщина', 'невеста', 'девочка',\n",
    "'подруга', 'подруги', 'девочки',\n",
    "'богиня', 'внучка', 'бабка', 'бабушка',\n",
    "'сама', 'дамы', 'леди', 'мама', 'мамы',\n",
    "'мать', 'матери', 'миссис', 'мисс',\n",
    "'племянница', 'племянницы', 'жрица',\n",
    "'принцесса', 'королевы', 'она', 'сестра',\n",
    "'сестры', 'официантка', 'вдова',\n",
    "'вдовы', 'жена', 'жены', 'женщина'])\n",
    "#Множество женских слов"
   ]
  },
  {
   "cell_type": "code",
   "execution_count": 3,
   "metadata": {
    "executionInfo": {
     "elapsed": 389,
     "status": "ok",
     "timestamp": 1647764730610,
     "user": {
      "displayName": "Graf 35",
      "photoUrl": "https://lh3.googleusercontent.com/a-/AOh14GgcHDyJQ1MQQIBBCZd9xV6NvKbKPsBBOPGCn3HJBA=s64",
      "userId": "13859350482968645708"
     },
     "user_tz": -180
    },
    "id": "-1Eq3wqVa9RI"
   },
   "outputs": [],
   "source": [
    "def genderize(words): \n",
    "  mwlen = len(MALE_WORDS.intersection(words)) \n",
    "  fwlen = len(FEMALE_WORDS.intersection(words)) \n",
    "  if mwlen > 0 and fwlen == 0: \n",
    "    return \"мужские\"\n",
    "  elif mwlen == 0 and fwlen > 0: \n",
    "     return 'женские' \n",
    "  elif mwlen > 0 and fwlen > 0: \n",
    "    return 'двуполые'\n",
    "  else:\n",
    "     return 'неизвестно' "
   ]
  },
  {
   "cell_type": "code",
   "execution_count": 4,
   "metadata": {
    "executionInfo": {
     "elapsed": 3,
     "status": "ok",
     "timestamp": 1647764849123,
     "user": {
      "displayName": "Graf 35",
      "photoUrl": "https://lh3.googleusercontent.com/a-/AOh14GgcHDyJQ1MQQIBBCZd9xV6NvKbKPsBBOPGCn3HJBA=s64",
      "userId": "13859350482968645708"
     },
     "user_tz": -180
    },
    "id": "clY1d4Fzbgzq"
   },
   "outputs": [],
   "source": [
    "from collections import Counter \n",
    "def count_gender(sentences):\n",
    "  sents = Counter() #Задаем пустую переменную sents для подсчета количества предложений определенного рода\n",
    "  words = Counter() #Задаем пустую переменную words для подсчета количества слов в предложении\n",
    "  for sentence in sentences:\n",
    "    gender = genderize(sentence) #Вызываем ранее созданную функцию\n",
    "    sents[gender] += 1 #Считаем количество предложений определенного рода\n",
    "    words[gender] += len(sentence) #Считаем количество слов в предложении\n",
    "  return sents, words"
   ]
  },
  {
   "cell_type": "code",
   "execution_count": 5,
   "metadata": {
    "colab": {
     "base_uri": "https://localhost:8080/"
    },
    "executionInfo": {
     "elapsed": 377,
     "status": "ok",
     "timestamp": 1647765152833,
     "user": {
      "displayName": "Graf 35",
      "photoUrl": "https://lh3.googleusercontent.com/a-/AOh14GgcHDyJQ1MQQIBBCZd9xV6NvKbKPsBBOPGCn3HJBA=s64",
      "userId": "13859350482968645708"
     },
     "user_tz": -180
    },
    "id": "CnrfssO5cD1R",
    "outputId": "d2865f94-d1f7-40ac-9e0b-7e4d02267e7a"
   },
   "outputs": [
    {
     "name": "stderr",
     "output_type": "stream",
     "text": [
      "[nltk_data] Downloading package punkt to\n",
      "[nltk_data]     C:\\Users\\Graf35\\AppData\\Roaming\\nltk_data...\n",
      "[nltk_data]   Unzipping tokenizers\\punkt.zip.\n"
     ]
    }
   ],
   "source": [
    "import nltk \n",
    "nltk.download('punkt') \n",
    "def parse_gender(text): \n",
    "  sentences = [[word.lower() for word in nltk.word_tokenize(sentence)] \n",
    "  for sentence in nltk.sent_tokenize(text)] \n",
    "  sents, words = count_gender(sentences)\n",
    "  total = sum(words.values()) \n",
    "  for gender, count in words.items(): \n",
    "    pcent = (count / total) * 100\n",
    "    nsents = sents[gender]\n",
    "    print( \"{:.3f}% {} ({} предложений)\".format(pcent, gender, nsents))"
   ]
  },
  {
   "cell_type": "code",
   "execution_count": 6,
   "metadata": {
    "executionInfo": {
     "elapsed": 573,
     "status": "ok",
     "timestamp": 1647765217589,
     "user": {
      "displayName": "Graf 35",
      "photoUrl": "https://lh3.googleusercontent.com/a-/AOh14GgcHDyJQ1MQQIBBCZd9xV6NvKbKPsBBOPGCn3HJBA=s64",
      "userId": "13859350482968645708"
     },
     "user_tz": -180
    },
    "id": "fC3FEHsPdERR"
   },
   "outputs": [],
   "source": [
    "text = '''Мистер и миссис Дурсль проживали в доме номер четыре по Тисовой улице и всегда\n",
    "с гордостью заявляли, что они, слава богу, абсолютно нормальные люди. Уж от кого-кого, а\n",
    "от них никак нельзя было ожидать, чтобы они попали в какую-нибудь странную или загадочную\n",
    "ситуацию. Мистер и миссис Дурсль весьма неодобрительно относились к любым странностям, за\n",
    "гадкам и прочей ерунде.\n",
    "Мистер Дурсль возглавлял фирму под названием «Граннингс», которая специализировалась на п\n",
    "роизводстве дрелей. Это был полный мужчина с очень пышными усами и очень короткой шеей. Ч\n",
    "то же касается миссис Дурсль, она была тощей блондинкой с шеей почти вдвое длиннее, чем п\n",
    "оложено при ее росте. Однако этот недостаток пришелся ей весьма кстати, поскольку большую\n",
    "часть времени миссис Дурсль следила за соседями и подслушивала их разговоры. А с такой ше\n",
    "ей, как у нее, было очень удобно заглядывать за чужие заборы. У мистера и миссис Дурсль б\n",
    "ыл маленький сын по имени Дадли, и, по их мнению, он был самым чудесным ребенком на свете\n",
    ".\n",
    "Семья Дурслей имела все, чего только можно пожелать. Но был у них и один секрет. Причем б\n",
    "ольше всего на свете они боялись, что кто-нибудь о нем узнает. Дурсли даже представить се\n",
    "бе не могли, что с ними будет, если выплывет правда о Поттерах. Миссис Поттер приходилас\n",
    "ь миссис Дурсль родной сестрой, но они не виделись вот уже несколько лет. Миссис Дурсль д\n",
    "аже делала вид, что у нее вовсе нет никакой сестры, потому что сестра и ее никчемный муж\n",
    "были полной противоположностью Дурслям.\n",
    "Дурсли содрогались при одной мысли о том, что скажут соседи, если на Тисовую улицу пожалу\n",
    "ют Поттеры. Дурсли знали, что у Поттеров тоже есть маленький сын, но они никогда его не в\n",
    "идели. И они категорически не хотели, чтобы их Дадли общался с ребенком таких родителей.\n",
    "Когда во вторник мистер и миссис Дурсль проснулись скучным и серым утром — а именно с эт\n",
    "ого утра начинается наша история, — ничто, включая покрытое тучами небо, не предвещало, ч\n",
    "то вскоре по всей стране начнут происходить странные и загадочные вещи. Мистер Дурсль чт\n",
    "о-то напевал себе под нос, завязывая самый отвратительный из своих галстуков. А миссис Ду\n",
    "рсль, с трудом усадив сопротивляющегося и орущего Дадли на высокий детский стульчик, со с\n",
    "частливой улыбкой пересказывала мужу последние сплетни.\n",
    "Никто из них не заметил, как за окном пролетела большая сова-неясыть.\n",
    "В половине девятого мистер Дурсль взял свой портфель, клюнул миссис Дурсль в щеку и попы\n",
    "тался на прощанье поцеловать Дадли, но промахнулся, потому что Дадли впал в ярость, что с\n",
    "ним происходило довольно часто. Он раскачивался взад-вперед на стульчике, ловко выуживал\n",
    "из тарелки кашу и заляпывал ею стены.\n",
    "— Ух, ты моя крошка, — со смехом выдавил из себя мистер Дурсль, выходя из дома.\n",
    "Он сел в машину и выехал со двора.\n",
    "На углу улицы мистер Дурсль заметил, что происходит что-то странное, — на тротуаре стояла\n",
    "кошка и внимательно изучала лежащую перед ней карту. В первую секунду мистер Дурсль даже\n",
    "не понял, что именно он увидел, но затем, уже миновав кошку, затормозил и резко оглянулся\n",
    ". На углу Тисовой улицы действительно стояла полосатая кошка, но никакой карты видно не б\n",
    "ыло.\n",
    "— И привидится же такое! — буркнул мистер Дурсль.\n",
    "— И привидится же такое! — буркнул мистер Дурсль.\n",
    "Наверное, во всем были виноваты мрачное утро и тусклый свет фонаря. На всякий случай мист\n",
    "ер Дурсль закрыл глаза, потом открыл их и уставился на кошку. А кошка уставилась на него\n",
    ".\n",
    "'''"
   ]
  },
  {
   "cell_type": "code",
   "execution_count": 7,
   "metadata": {
    "colab": {
     "base_uri": "https://localhost:8080/"
    },
    "executionInfo": {
     "elapsed": 389,
     "status": "ok",
     "timestamp": 1647765230982,
     "user": {
      "displayName": "Graf 35",
      "photoUrl": "https://lh3.googleusercontent.com/a-/AOh14GgcHDyJQ1MQQIBBCZd9xV6NvKbKPsBBOPGCn3HJBA=s64",
      "userId": "13859350482968645708"
     },
     "user_tz": -180
    },
    "id": "2OnFc7p-ddta",
    "outputId": "9c88063a-ae25-43c6-d5d3-4ad84d78f485"
   },
   "outputs": [
    {
     "name": "stdout",
     "output_type": "stream",
     "text": [
      "28.418% двуполые (6 предложений)\n",
      "31.490% неизвестно (15 предложений)\n",
      "26.267% мужские (11 предложений)\n",
      "13.825% женские (4 предложений)\n"
     ]
    }
   ],
   "source": [
    "parse_gender(text)"
   ]
  },
  {
   "cell_type": "code",
   "execution_count": null,
   "metadata": {
    "id": "X6SvUzG_dhBx"
   },
   "outputs": [],
   "source": []
  }
 ],
 "metadata": {
  "colab": {
   "authorship_tag": "ABX9TyOTOnkhH9ZCXaJ7yjG1wsmB",
   "name": "Untitled0.ipynb",
   "provenance": []
  },
  "kernelspec": {
   "display_name": "Python 3",
   "language": "python",
   "name": "python3"
  },
  "language_info": {
   "codemirror_mode": {
    "name": "ipython",
    "version": 3
   },
   "file_extension": ".py",
   "mimetype": "text/x-python",
   "name": "python",
   "nbconvert_exporter": "python",
   "pygments_lexer": "ipython3",
   "version": "3.8.8"
  }
 },
 "nbformat": 4,
 "nbformat_minor": 1
}
