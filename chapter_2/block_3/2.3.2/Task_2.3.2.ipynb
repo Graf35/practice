{
 "cells": [
  {
   "cell_type": "code",
   "execution_count": 2,
   "id": "eb2d451e",
   "metadata": {},
   "outputs": [
    {
     "data": {
      "image/png": "[encoded data removed]",
      "text/plain": [
       "<Figure size 864x720 with 1 Axes>"
      ]
     },
     "metadata": {
      "needs_background": "light"
     },
     "output_type": "display_data"
    }
   ],
   "source": [
    "from collections import Counter\n",
    "import matplotlib.pyplot as plt\n",
    "word = \"нноороосссоообьбтп\"\n",
    "counter = Counter(word)\n",
    "x = list(counter.keys())\n",
    "y = list(counter.values())\n",
    "plt.figure(figsize=(12,10))\n",
    "plt.ylabel(\"Количество вхождений\", fontsize=14)\n",
    "plt.xlabel(\"Буква\", fontsize=14)\n",
    "plt.bar(x, y)\n",
    "plt.title(\"гистограмма распределения количества букв\\n в слове [обороноспособность]\", fontsize=20)\n",
    "plt.show()"
   ]
  },
  {
   "cell_type": "code",
   "execution_count": 10,
   "id": "f38a06de",
   "metadata": {},
   "outputs": [
    {
     "name": "stderr",
     "output_type": "stream",
     "text": [
      "[nltk_data] Downloading package stopwords to\n",
      "[nltk_data]     C:\\Users\\Graf35\\AppData\\Roaming\\nltk_data...\n",
      "[nltk_data]   Package stopwords is already up-to-date!\n",
      "[nltk_data] Downloading package punkt to\n",
      "[nltk_data]     C:\\Users\\Graf35\\AppData\\Roaming\\nltk_data...\n",
      "[nltk_data]   Package punkt is already up-to-date!\n"
     ]
    }
   ],
   "source": [
    "import random\n",
    "import re\n",
    "import nltk\n",
    "import string\n",
    "from nltk.corpus import stopwords\n",
    "from nltk.tokenize import word_tokenize\n",
    "nltk.download('stopwords')\n",
    "nltk.download('punkt')\n",
    "stop_words = set(stopwords.words('russian'))"
   ]
  },
  {
   "cell_type": "code",
   "execution_count": 11,
   "id": "b17f6715",
   "metadata": {},
   "outputs": [],
   "source": [
    "def anagram_finder(text):\n",
    "    text = text.lower()\n",
    "    word_token = text.translate(str.maketrans(\"\", \"\", string.punctuation)).replace(\"—\",\"\")\n",
    "    tokens = word_tokenize(word_token)\n",
    "    result = [i for i in tokens if not i in stop_words]\n",
    "    anagrams = []\n",
    "    for word_1 in result:\n",
    "        for word_2 in result:\n",
    "            if word_1 != word_2 and (sorted(word_1)==sorted(word_2)):\n",
    "                anagrams.append(word_1)\n",
    "    return anagrams"
   ]
  },
  {
   "cell_type": "code",
   "execution_count": 16,
   "id": "669ed02e",
   "metadata": {},
   "outputs": [
    {
     "name": "stdout",
     "output_type": "stream",
     "text": [
      "['есмь', 'строка', 'живу', 'мерой', 'остр', 'семь', 'морей', 'ростка', 'вижу', 'рост', 'мире', 'риме']\n"
     ]
    }
   ],
   "source": [
    "text = 'Аз есмь строка, живу я, мерой остр. За семь морей ростка я вижу рост. Я в мире –сирота. Я в Риме – Ариост.'\n",
    "print(anagram_finder(text))\n"
   ]
  },
  {
   "cell_type": "code",
   "execution_count": 17,
   "id": "dd2616ee",
   "metadata": {},
   "outputs": [],
   "source": [
    "inputstring = '''По результатам исследований одного английского университета, не имеет зн\n",
    "ачения, в каком порядке расположены буквы в слове. Главное, чтобы первая и последняя бук\n",
    "вы были на месте. Остальные буквы могут следовать в полном\n",
    "беспорядке, все равно текст читается без проблем. Причиной этого является то, что мы не ч\n",
    "итаем каждую букву по отдельности, а все слово целиком'''"
   ]
  },
  {
   "cell_type": "code",
   "execution_count": 18,
   "id": "94c803da",
   "metadata": {},
   "outputs": [],
   "source": [
    "def shuffle_string(inputstring):\n",
    "    words_list = word_tokenize(inputstring)\n",
    "    new_string = \"\"\n",
    "    for i in words_list:\n",
    "        shuffle_word = \"\"\n",
    "        if len(i) < 2:\n",
    "            new_string = new_string + i\n",
    "        elif len(i) == 2:\n",
    "            new_string = new_string + \" \" + i\n",
    "        else:\n",
    "            first = re.findall(r'^\\w', i)\n",
    "            last = re.findall(r'\\w$', i)\n",
    "            cut_word = i[1:-1]\n",
    "            cut_word_list = list(cut_word)\n",
    "            shuffle_word = shuffle_word + ' '.join(first) + ''.join(random.sample(cut_word_list, len(cut_word_list))) + ''.join(last)\n",
    "            new_string = new_string + ' ' + shuffle_word\n",
    "    return new_string"
   ]
  },
  {
   "cell_type": "code",
   "execution_count": 19,
   "id": "ef19d06a",
   "metadata": {},
   "outputs": [
    {
     "name": "stdout",
     "output_type": "stream",
     "text": [
      " По ратеьлтзаум ивслсеаоиндй оодгно аснгйиогкло уисетервитна, не иемет зн аеничя,в коакм пкярдое ржолноеапсы бкувыв совле. Гнлвоае, чботы праевяи пеолдняся бук вы блыи на мтесе. Оанылсьте бкувы мгуот слвдтаеоьв понолм бкрдепосяе, все ранво текст чттсаиея без плробем. Пчрионий эгото яясвтлея то, что мы неч итаем кажудю бкуву по отедтлоньси,а все совло цеилком\n"
     ]
    }
   ],
   "source": [
    "print(shuffle_string(inputstring))"
   ]
  },
  {
   "cell_type": "code",
   "execution_count": null,
   "id": "721eb81f",
   "metadata": {},
   "outputs": [],
   "source": []
  }
 ],
 "metadata": {
  "kernelspec": {
   "display_name": "Python 3",
   "language": "python",
   "name": "python3"
  },
  "language_info": {
   "codemirror_mode": {
    "name": "ipython",
    "version": 3
   },
   "file_extension": ".py",
   "mimetype": "text/x-python",
   "name": "python",
   "nbconvert_exporter": "python",
   "pygments_lexer": "ipython3",
   "version": "3.8.8"
  }
 },
 "nbformat": 4,
 "nbformat_minor": 5
}
