{
 "cells": [
  {
   "cell_type": "code",
   "execution_count": null,
   "metadata": {
    "id": "ObYBh3Ow-UfR"
   },
   "outputs": [],
   "source": [
    "import pandas as pd\n",
    "import numpy as np"
   ]
  },
  {
   "cell_type": "code",
   "execution_count": null,
   "metadata": {
    "id": "1eiSvhdP-nfo"
   },
   "outputs": [],
   "source": [
    "train=pd.read_csv(r'Train.csv')\n",
    "test=pd.read_csv(r'Test.csv')"
   ]
  },
  {
   "cell_type": "code",
   "execution_count": null,
   "metadata": {
    "id": "RjQyX2oJ_qce"
   },
   "outputs": [],
   "source": [
    "import seaborn as sb\n",
    "from matplotlib import pyplot as plt"
   ]
  },
  {
   "cell_type": "code",
   "execution_count": null,
   "metadata": {
    "id": "boUJnoIXgMLV"
   },
   "outputs": [],
   "source": [
    "def Remove_Outlier_Indices(df):\n",
    "    Q1 = df.quantile(0.25)\n",
    "    print(Q1)\n",
    "    Q3 = df.quantile(0.75)\n",
    "    IQR = Q3 - Q1\n",
    "    print(IQR)\n",
    "    trueList = ~((df < (Q1 - 1.5 * IQR)) |(df > (Q3 + 1.5 * IQR)))\n",
    "    return trueList"
   ]
  },
  {
   "cell_type": "code",
   "execution_count": null,
   "metadata": {
    "colab": {
     "base_uri": "https://localhost:8080/"
    },
    "id": "TYpddFUliY_F",
    "outputId": "2d003bd7-5427-4bfa-fcdd-099226452be1"
   },
   "outputs": [
    {
     "name": "stdout",
     "output_type": "stream",
     "text": [
      "Unnamed: 0         270.250000\n",
      "Area               219.000000\n",
      "MajorAxisLenght     28.373550\n",
      "MinorAxisLenght      9.153400\n",
      "Eccentricity         0.907025\n",
      "Orientation        -12.699375\n",
      "ConvexArea         242.250000\n",
      "FilledArea         219.000000\n",
      "EulerNumber         -1.000000\n",
      "EquivDiameter       16.698500\n",
      "Solidity             0.867700\n",
      "Extent               0.524625\n",
      "Perimeter           73.738750\n",
      "Name: 0.25, dtype: float64\n",
      "Unnamed: 0          41.000000\n",
      "Area               206.500000\n",
      "MajorAxisLenght     27.654975\n",
      "MinorAxisLenght      2.272600\n",
      "Eccentricity         0.078800\n",
      "Orientation         22.086050\n",
      "ConvexArea         225.000000\n",
      "FilledArea         206.500000\n",
      "EulerNumber          2.000000\n",
      "EquivDiameter        6.577275\n",
      "Solidity             0.066600\n",
      "Extent               0.160225\n",
      "Perimeter           46.250500\n",
      "dtype: float64\n"
     ]
    }
   ],
   "source": [
    "nonOutlierList = Remove_Outlier_Indices(bb)\n",
    "dfSubset_b = bb[nonOutlierList]\n",
    "w2=dfSubset_b.dropna()"
   ]
  },
  {
   "cell_type": "code",
   "execution_count": null,
   "metadata": {
    "colab": {
     "base_uri": "https://localhost:8080/"
    },
    "id": "jdqDvOwMikvU",
    "outputId": "1966dbdf-0cab-42a7-a1e9-66ca422591bc"
   },
   "outputs": [
    {
     "name": "stdout",
     "output_type": "stream",
     "text": [
      "Unnamed: 0          19.750000\n",
      "Area               590.250000\n",
      "MajorAxisLenght     46.180600\n",
      "MinorAxisLenght     16.112775\n",
      "Eccentricity         0.932675\n",
      "Orientation         -0.662050\n",
      "ConvexArea         607.500000\n",
      "FilledArea         590.250000\n",
      "EulerNumber          1.000000\n",
      "EquivDiameter       27.414050\n",
      "Solidity             0.961275\n",
      "Extent               0.757600\n",
      "Perimeter          101.102250\n",
      "Name: 0.25, dtype: float64\n",
      "Unnamed: 0          35.500000\n",
      "Area               121.250000\n",
      "MajorAxisLenght      6.891475\n",
      "MinorAxisLenght      1.516950\n",
      "Eccentricity         0.014450\n",
      "Orientation          2.439750\n",
      "ConvexArea         128.750000\n",
      "FilledArea         123.500000\n",
      "EulerNumber          0.000000\n",
      "EquivDiameter        2.684150\n",
      "Solidity             0.010200\n",
      "Extent               0.046400\n",
      "Perimeter           13.333750\n",
      "dtype: float64\n"
     ]
    }
   ],
   "source": [
    "nonOutlierList = Remove_Outlier_Indices(cc)\n",
    "dfSubset_c = cc[nonOutlierList]\n",
    "w3=dfSubset_c.dropna()"
   ]
  },
  {
   "cell_type": "code",
   "execution_count": null,
   "metadata": {
    "colab": {
     "base_uri": "https://localhost:8080/"
    },
    "id": "SgFw75u0iu-0",
    "outputId": "f74e5b16-f239-41bf-882f-6d47f9464b41"
   },
   "outputs": [
    {
     "name": "stdout",
     "output_type": "stream",
     "text": [
      "Unnamed: 0          94.50000\n",
      "Area               267.50000\n",
      "MajorAxisLenght     30.07810\n",
      "MinorAxisLenght      8.83010\n",
      "Eccentricity         0.92175\n",
      "Orientation         -9.43340\n",
      "ConvexArea         285.00000\n",
      "FilledArea         267.50000\n",
      "EulerNumber          1.00000\n",
      "EquivDiameter       18.45445\n",
      "Solidity             0.93020\n",
      "Extent               0.63770\n",
      "Perimeter           68.93650\n",
      "Name: 0.25, dtype: float64\n",
      "Unnamed: 0         40.00000\n",
      "Area               62.50000\n",
      "MajorAxisLenght    15.67440\n",
      "MinorAxisLenght     2.56455\n",
      "Eccentricity        0.05855\n",
      "Orientation        16.94475\n",
      "ConvexArea         70.00000\n",
      "FilledArea         62.50000\n",
      "EulerNumber         0.00000\n",
      "EquivDiameter       2.04355\n",
      "Solidity            0.02620\n",
      "Extent              0.09915\n",
      "Perimeter          24.56950\n",
      "dtype: float64\n"
     ]
    }
   ],
   "source": [
    "nonOutlierList = Remove_Outlier_Indices(dd)\n",
    "dfSubset_d = dd[nonOutlierList]\n",
    "w4=dfSubset_d.dropna()"
   ]
  },
  {
   "cell_type": "code",
   "execution_count": null,
   "metadata": {
    "colab": {
     "base_uri": "https://localhost:8080/"
    },
    "id": "9SR4cJpWnIj6",
    "outputId": "d9a26798-4bef-484d-ca0d-7579526721b5"
   },
   "outputs": [
    {
     "name": "stdout",
     "output_type": "stream",
     "text": [
      "<class 'pandas.core.frame.DataFrame'>\n",
      "Int64Index: 153 entries, 3 to 212\n",
      "Data columns (total 14 columns):\n",
      " #   Column           Non-Null Count  Dtype  \n",
      "---  ------           --------------  -----  \n",
      " 0   Unnamed: 0       153 non-null    int64  \n",
      " 1   Area             153 non-null    float64\n",
      " 2   MajorAxisLenght  153 non-null    float64\n",
      " 3   MinorAxisLenght  153 non-null    float64\n",
      " 4   Eccentricity     153 non-null    float64\n",
      " 5   Orientation      153 non-null    float64\n",
      " 6   ConvexArea       153 non-null    float64\n",
      " 7   FilledArea       153 non-null    float64\n",
      " 8   EulerNumber      153 non-null    float64\n",
      " 9   EquivDiameter    153 non-null    float64\n",
      " 10  Solidity         153 non-null    float64\n",
      " 11  Extent           153 non-null    float64\n",
      " 12  Perimeter        153 non-null    float64\n",
      " 13  Class            153 non-null    object \n",
      "dtypes: float64(12), int64(1), object(1)\n",
      "memory usage: 17.9+ KB\n"
     ]
    }
   ],
   "source": [
    "all=pd.concat([w,w4,w2,w3])\n",
    "all.info()"
   ]
  },
  {
   "cell_type": "code",
   "execution_count": null,
   "metadata": {
    "colab": {
     "base_uri": "https://localhost:8080/",
     "height": 1000
    },
    "id": "WzIqpQLNqx-x",
    "outputId": "05526d22-6cf7-42b7-f0b6-1fbdd23224ed"
   },
   "outputs": [
    {
     "data": {
      "image/png": "[encoded data removed]",
      "text/plain": [
       "<Figure size 432x288 with 1 Axes>"
      ]
     },
     "metadata": {
      "needs_background": "light"
     },
     "output_type": "display_data"
    },
    {
     "data": {
      "image/png": "[encoded data removed]",
      "text/plain": [
       "<Figure size 432x288 with 1 Axes>"
      ]
     },
     "metadata": {
      "needs_background": "light"
     },
     "output_type": "display_data"
    },
    {
     "data": {
      "image/png": "[encoded data removed]",
      "text/plain": [
       "<Figure size 432x288 with 1 Axes>"
      ]
     },
     "metadata": {
      "needs_background": "light"
     },
     "output_type": "display_data"
    },
    {
     "data": {
      "image/png": "[encoded data removed]",
      "text/plain": [
       "<Figure size 432x288 with 1 Axes>"
      ]
     },
     "metadata": {
      "needs_background": "light"
     },
     "output_type": "display_data"
    },
    {
     "data": {
      "image/png": "[encoded data removed]",
      "text/plain": [
       "<Figure size 432x288 with 1 Axes>"
      ]
     },
     "metadata": {
      "needs_background": "light"
     },
     "output_type": "display_data"
    },
    {
     "data": {
      "image/png": "[encoded data removed]",
      "text/plain": [
       "<Figure size 432x288 with 1 Axes>"
      ]
     },
     "metadata": {
      "needs_background": "light"
     },
     "output_type": "display_data"
    },
    {
     "data": {
      "image/png": "[encoded data removed]",
      "text/plain": [
       "<Figure size 432x288 with 1 Axes>"
      ]
     },
     "metadata": {
      "needs_background": "light"
     },
     "output_type": "display_data"
    },
    {
     "data": {
      "image/png": "[encoded data removed]",
      "text/plain": [
       "<Figure size 432x288 with 1 Axes>"
      ]
     },
     "metadata": {
      "needs_background": "light"
     },
     "output_type": "display_data"
    },
    {
     "data": {
      "image/png": "[encoded data removed]",
      "text/plain": [
       "<Figure size 432x288 with 1 Axes>"
      ]
     },
     "metadata": {
      "needs_background": "light"
     },
     "output_type": "display_data"
    },
    {
     "data": {
      "image/png": "[encoded data removed]",
      "text/plain": [
       "<Figure size 432x288 with 1 Axes>"
      ]
     },
     "metadata": {
      "needs_background": "light"
     },
     "output_type": "display_data"
    },
    {
     "data": {
      "image/png": "[encoded data removed]",
      "text/plain": [
       "<Figure size 432x288 with 1 Axes>"
      ]
     },
     "metadata": {
      "needs_background": "light"
     },
     "output_type": "display_data"
    },
    {
     "data": {
      "image/png": "[encoded data removed]",
      "text/plain": [
       "<Figure size 432x288 with 1 Axes>"
      ]
     },
     "metadata": {
      "needs_background": "light"
     },
     "output_type": "display_data"
    },
    {
     "data": {
      "image/png": "[encoded data removed]",
      "text/plain": [
       "<Figure size 432x288 with 1 Axes>"
      ]
     },
     "metadata": {
      "needs_background": "light"
     },
     "output_type": "display_data"
    },
    {
     "ename": "TypeError",
     "evalue": "ignored",
     "output_type": "error",
     "traceback": [
      "\u001b[0;31m---------------------------------------------------------------------------\u001b[0m",
      "\u001b[0;31mTypeError\u001b[0m                                 Traceback (most recent call last)",
      "\u001b[0;32m<ipython-input-15-ae2bacb1caee>\u001b[0m in \u001b[0;36m<module>\u001b[0;34m()\u001b[0m\n\u001b[1;32m      1\u001b[0m \u001b[0;32mfor\u001b[0m \u001b[0mi\u001b[0m \u001b[0;32min\u001b[0m \u001b[0mall\u001b[0m\u001b[0;34m:\u001b[0m\u001b[0;34m\u001b[0m\u001b[0;34m\u001b[0m\u001b[0m\n\u001b[0;32m----> 2\u001b[0;31m   \u001b[0msb\u001b[0m\u001b[0;34m.\u001b[0m\u001b[0mboxplot\u001b[0m\u001b[0;34m(\u001b[0m\u001b[0my\u001b[0m\u001b[0;34m=\u001b[0m\u001b[0mall\u001b[0m\u001b[0;34m[\u001b[0m\u001b[0mi\u001b[0m\u001b[0;34m]\u001b[0m\u001b[0;34m,\u001b[0m \u001b[0mx\u001b[0m\u001b[0;34m=\u001b[0m\u001b[0;34m'Class'\u001b[0m\u001b[0;34m,\u001b[0m \u001b[0mdata\u001b[0m\u001b[0;34m=\u001b[0m\u001b[0mtrain\u001b[0m\u001b[0;34m)\u001b[0m\u001b[0;34m\u001b[0m\u001b[0;34m\u001b[0m\u001b[0m\n\u001b[0m\u001b[1;32m      3\u001b[0m \u001b[0;34m\u001b[0m\u001b[0m\n\u001b[1;32m      4\u001b[0m   \u001b[0mplt\u001b[0m\u001b[0;34m.\u001b[0m\u001b[0mshow\u001b[0m\u001b[0;34m(\u001b[0m\u001b[0;34m)\u001b[0m\u001b[0;34m\u001b[0m\u001b[0;34m\u001b[0m\u001b[0m\n",
      "\u001b[0;32m/usr/local/lib/python3.7/dist-packages/seaborn/_decorators.py\u001b[0m in \u001b[0;36minner_f\u001b[0;34m(*args, **kwargs)\u001b[0m\n\u001b[1;32m     44\u001b[0m             )\n\u001b[1;32m     45\u001b[0m         \u001b[0mkwargs\u001b[0m\u001b[0;34m.\u001b[0m\u001b[0mupdate\u001b[0m\u001b[0;34m(\u001b[0m\u001b[0;34m{\u001b[0m\u001b[0mk\u001b[0m\u001b[0;34m:\u001b[0m \u001b[0marg\u001b[0m \u001b[0;32mfor\u001b[0m \u001b[0mk\u001b[0m\u001b[0;34m,\u001b[0m \u001b[0marg\u001b[0m \u001b[0;32min\u001b[0m \u001b[0mzip\u001b[0m\u001b[0;34m(\u001b[0m\u001b[0msig\u001b[0m\u001b[0;34m.\u001b[0m\u001b[0mparameters\u001b[0m\u001b[0;34m,\u001b[0m \u001b[0margs\u001b[0m\u001b[0;34m)\u001b[0m\u001b[0;34m}\u001b[0m\u001b[0;34m)\u001b[0m\u001b[0;34m\u001b[0m\u001b[0;34m\u001b[0m\u001b[0m\n\u001b[0;32m---> 46\u001b[0;31m         \u001b[0;32mreturn\u001b[0m \u001b[0mf\u001b[0m\u001b[0;34m(\u001b[0m\u001b[0;34m**\u001b[0m\u001b[0mkwargs\u001b[0m\u001b[0;34m)\u001b[0m\u001b[0;34m\u001b[0m\u001b[0;34m\u001b[0m\u001b[0m\n\u001b[0m\u001b[1;32m     47\u001b[0m     \u001b[0;32mreturn\u001b[0m \u001b[0minner_f\u001b[0m\u001b[0;34m\u001b[0m\u001b[0;34m\u001b[0m\u001b[0m\n\u001b[1;32m     48\u001b[0m \u001b[0;34m\u001b[0m\u001b[0m\n",
      "\u001b[0;32m/usr/local/lib/python3.7/dist-packages/seaborn/categorical.py\u001b[0m in \u001b[0;36mboxplot\u001b[0;34m(x, y, hue, data, order, hue_order, orient, color, palette, saturation, width, dodge, fliersize, linewidth, whis, ax, **kwargs)\u001b[0m\n\u001b[1;32m   2243\u001b[0m     plotter = _BoxPlotter(x, y, hue, data, order, hue_order,\n\u001b[1;32m   2244\u001b[0m                           \u001b[0morient\u001b[0m\u001b[0;34m,\u001b[0m \u001b[0mcolor\u001b[0m\u001b[0;34m,\u001b[0m \u001b[0mpalette\u001b[0m\u001b[0;34m,\u001b[0m \u001b[0msaturation\u001b[0m\u001b[0;34m,\u001b[0m\u001b[0;34m\u001b[0m\u001b[0;34m\u001b[0m\u001b[0m\n\u001b[0;32m-> 2245\u001b[0;31m                           width, dodge, fliersize, linewidth)\n\u001b[0m\u001b[1;32m   2246\u001b[0m \u001b[0;34m\u001b[0m\u001b[0m\n\u001b[1;32m   2247\u001b[0m     \u001b[0;32mif\u001b[0m \u001b[0max\u001b[0m \u001b[0;32mis\u001b[0m \u001b[0;32mNone\u001b[0m\u001b[0;34m:\u001b[0m\u001b[0;34m\u001b[0m\u001b[0;34m\u001b[0m\u001b[0m\n",
      "\u001b[0;32m/usr/local/lib/python3.7/dist-packages/seaborn/categorical.py\u001b[0m in \u001b[0;36m__init__\u001b[0;34m(self, x, y, hue, data, order, hue_order, orient, color, palette, saturation, width, dodge, fliersize, linewidth)\u001b[0m\n\u001b[1;32m    404\u001b[0m                  width, dodge, fliersize, linewidth):\n\u001b[1;32m    405\u001b[0m \u001b[0;34m\u001b[0m\u001b[0m\n\u001b[0;32m--> 406\u001b[0;31m         \u001b[0mself\u001b[0m\u001b[0;34m.\u001b[0m\u001b[0mestablish_variables\u001b[0m\u001b[0;34m(\u001b[0m\u001b[0mx\u001b[0m\u001b[0;34m,\u001b[0m \u001b[0my\u001b[0m\u001b[0;34m,\u001b[0m \u001b[0mhue\u001b[0m\u001b[0;34m,\u001b[0m \u001b[0mdata\u001b[0m\u001b[0;34m,\u001b[0m \u001b[0morient\u001b[0m\u001b[0;34m,\u001b[0m \u001b[0morder\u001b[0m\u001b[0;34m,\u001b[0m \u001b[0mhue_order\u001b[0m\u001b[0;34m)\u001b[0m\u001b[0;34m\u001b[0m\u001b[0;34m\u001b[0m\u001b[0m\n\u001b[0m\u001b[1;32m    407\u001b[0m         \u001b[0mself\u001b[0m\u001b[0;34m.\u001b[0m\u001b[0mestablish_colors\u001b[0m\u001b[0;34m(\u001b[0m\u001b[0mcolor\u001b[0m\u001b[0;34m,\u001b[0m \u001b[0mpalette\u001b[0m\u001b[0;34m,\u001b[0m \u001b[0msaturation\u001b[0m\u001b[0;34m)\u001b[0m\u001b[0;34m\u001b[0m\u001b[0;34m\u001b[0m\u001b[0m\n\u001b[1;32m    408\u001b[0m \u001b[0;34m\u001b[0m\u001b[0m\n",
      "\u001b[0;32m/usr/local/lib/python3.7/dist-packages/seaborn/categorical.py\u001b[0m in \u001b[0;36mestablish_variables\u001b[0;34m(self, x, y, hue, data, orient, order, hue_order, units)\u001b[0m\n\u001b[1;32m    155\u001b[0m             \u001b[0;31m# Figure out the plotting orientation\u001b[0m\u001b[0;34m\u001b[0m\u001b[0;34m\u001b[0m\u001b[0;34m\u001b[0m\u001b[0m\n\u001b[1;32m    156\u001b[0m             orient = infer_orient(\n\u001b[0;32m--> 157\u001b[0;31m                 \u001b[0mx\u001b[0m\u001b[0;34m,\u001b[0m \u001b[0my\u001b[0m\u001b[0;34m,\u001b[0m \u001b[0morient\u001b[0m\u001b[0;34m,\u001b[0m \u001b[0mrequire_numeric\u001b[0m\u001b[0;34m=\u001b[0m\u001b[0mself\u001b[0m\u001b[0;34m.\u001b[0m\u001b[0mrequire_numeric\u001b[0m\u001b[0;34m\u001b[0m\u001b[0;34m\u001b[0m\u001b[0m\n\u001b[0m\u001b[1;32m    158\u001b[0m             )\n\u001b[1;32m    159\u001b[0m \u001b[0;34m\u001b[0m\u001b[0m\n",
      "\u001b[0;32m/usr/local/lib/python3.7/dist-packages/seaborn/_core.py\u001b[0m in \u001b[0;36minfer_orient\u001b[0;34m(x, y, orient, require_numeric)\u001b[0m\n\u001b[1;32m   1350\u001b[0m     \u001b[0;32melif\u001b[0m \u001b[0mrequire_numeric\u001b[0m \u001b[0;32mand\u001b[0m \u001b[0;34m\"numeric\"\u001b[0m \u001b[0;32mnot\u001b[0m \u001b[0;32min\u001b[0m \u001b[0;34m(\u001b[0m\u001b[0mx_type\u001b[0m\u001b[0;34m,\u001b[0m \u001b[0my_type\u001b[0m\u001b[0;34m)\u001b[0m\u001b[0;34m:\u001b[0m\u001b[0;34m\u001b[0m\u001b[0;34m\u001b[0m\u001b[0m\n\u001b[1;32m   1351\u001b[0m         \u001b[0merr\u001b[0m \u001b[0;34m=\u001b[0m \u001b[0;34m\"Neither the `x` nor `y` variable appears to be numeric.\"\u001b[0m\u001b[0;34m\u001b[0m\u001b[0;34m\u001b[0m\u001b[0m\n\u001b[0;32m-> 1352\u001b[0;31m         \u001b[0;32mraise\u001b[0m \u001b[0mTypeError\u001b[0m\u001b[0;34m(\u001b[0m\u001b[0merr\u001b[0m\u001b[0;34m)\u001b[0m\u001b[0;34m\u001b[0m\u001b[0;34m\u001b[0m\u001b[0m\n\u001b[0m\u001b[1;32m   1353\u001b[0m \u001b[0;34m\u001b[0m\u001b[0m\n\u001b[1;32m   1354\u001b[0m     \u001b[0;32melse\u001b[0m\u001b[0;34m:\u001b[0m\u001b[0;34m\u001b[0m\u001b[0;34m\u001b[0m\u001b[0m\n",
      "\u001b[0;31mTypeError\u001b[0m: Neither the `x` nor `y` variable appears to be numeric."
     ]
    }
   ],
   "source": [
    "for i in all:\n",
    "  sb.boxplot(y=all[i], x='Class', data=train)\n",
    "\n",
    "  plt.show()"
   ]
  },
  {
   "cell_type": "code",
   "execution_count": null,
   "metadata": {
    "colab": {
     "base_uri": "https://localhost:8080/",
     "height": 423
    },
    "id": "0AU9oIlzsfGR",
    "outputId": "53504419-eee3-4bf4-dc8a-34cda444108b"
   },
   "outputs": [
    {
     "data": {
      "text/html": [
       "<div>\n",
       "<style scoped>\n",
       "    .dataframe tbody tr th:only-of-type {\n",
       "        vertical-align: middle;\n",
       "    }\n",
       "\n",
       "    .dataframe tbody tr th {\n",
       "        vertical-align: top;\n",
       "    }\n",
       "\n",
       "    .dataframe thead th {\n",
       "        text-align: right;\n",
       "    }\n",
       "</style>\n",
       "<table border=\"1\" class=\"dataframe\">\n",
       "  <thead>\n",
       "    <tr style=\"text-align: right;\">\n",
       "      <th></th>\n",
       "      <th>Unnamed: 0</th>\n",
       "      <th>Area</th>\n",
       "      <th>MajorAxisLenght</th>\n",
       "      <th>MinorAxisLenght</th>\n",
       "      <th>Eccentricity</th>\n",
       "      <th>Orientation</th>\n",
       "      <th>ConvexArea</th>\n",
       "      <th>FilledArea</th>\n",
       "      <th>EulerNumber</th>\n",
       "      <th>EquivDiameter</th>\n",
       "      <th>Solidity</th>\n",
       "      <th>Extent</th>\n",
       "      <th>Perimeter</th>\n",
       "    </tr>\n",
       "  </thead>\n",
       "  <tbody>\n",
       "    <tr>\n",
       "      <th>0</th>\n",
       "      <td>307</td>\n",
       "      <td>333</td>\n",
       "      <td>51.3584</td>\n",
       "      <td>12.2067</td>\n",
       "      <td>0.9713</td>\n",
       "      <td>4.1875</td>\n",
       "      <td>604</td>\n",
       "      <td>335</td>\n",
       "      <td>0</td>\n",
       "      <td>20.5910</td>\n",
       "      <td>0.5513</td>\n",
       "      <td>0.3246</td>\n",
       "      <td>137.284</td>\n",
       "    </tr>\n",
       "    <tr>\n",
       "      <th>1</th>\n",
       "      <td>112</td>\n",
       "      <td>280</td>\n",
       "      <td>40.0339</td>\n",
       "      <td>9.0188</td>\n",
       "      <td>0.9743</td>\n",
       "      <td>-15.0789</td>\n",
       "      <td>303</td>\n",
       "      <td>280</td>\n",
       "      <td>1</td>\n",
       "      <td>18.8814</td>\n",
       "      <td>0.9241</td>\n",
       "      <td>0.5128</td>\n",
       "      <td>82.379</td>\n",
       "    </tr>\n",
       "    <tr>\n",
       "      <th>2</th>\n",
       "      <td>11</td>\n",
       "      <td>726</td>\n",
       "      <td>55.9031</td>\n",
       "      <td>16.6662</td>\n",
       "      <td>0.9545</td>\n",
       "      <td>2.8397</td>\n",
       "      <td>754</td>\n",
       "      <td>726</td>\n",
       "      <td>1</td>\n",
       "      <td>30.4035</td>\n",
       "      <td>0.9629</td>\n",
       "      <td>0.7492</td>\n",
       "      <td>120.876</td>\n",
       "    </tr>\n",
       "    <tr>\n",
       "      <th>3</th>\n",
       "      <td>279</td>\n",
       "      <td>588</td>\n",
       "      <td>43.9936</td>\n",
       "      <td>17.5092</td>\n",
       "      <td>0.9174</td>\n",
       "      <td>-24.1990</td>\n",
       "      <td>667</td>\n",
       "      <td>588</td>\n",
       "      <td>1</td>\n",
       "      <td>27.3617</td>\n",
       "      <td>0.8816</td>\n",
       "      <td>0.5880</td>\n",
       "      <td>107.512</td>\n",
       "    </tr>\n",
       "    <tr>\n",
       "      <th>4</th>\n",
       "      <td>302</td>\n",
       "      <td>165</td>\n",
       "      <td>27.6134</td>\n",
       "      <td>7.8890</td>\n",
       "      <td>0.9583</td>\n",
       "      <td>0.3456</td>\n",
       "      <td>180</td>\n",
       "      <td>166</td>\n",
       "      <td>0</td>\n",
       "      <td>14.4943</td>\n",
       "      <td>0.9167</td>\n",
       "      <td>0.7366</td>\n",
       "      <td>58.561</td>\n",
       "    </tr>\n",
       "    <tr>\n",
       "      <th>...</th>\n",
       "      <td>...</td>\n",
       "      <td>...</td>\n",
       "      <td>...</td>\n",
       "      <td>...</td>\n",
       "      <td>...</td>\n",
       "      <td>...</td>\n",
       "      <td>...</td>\n",
       "      <td>...</td>\n",
       "      <td>...</td>\n",
       "      <td>...</td>\n",
       "      <td>...</td>\n",
       "      <td>...</td>\n",
       "      <td>...</td>\n",
       "    </tr>\n",
       "    <tr>\n",
       "      <th>107</th>\n",
       "      <td>184</td>\n",
       "      <td>2432</td>\n",
       "      <td>128.1336</td>\n",
       "      <td>24.2991</td>\n",
       "      <td>0.9819</td>\n",
       "      <td>7.0623</td>\n",
       "      <td>2529</td>\n",
       "      <td>2432</td>\n",
       "      <td>1</td>\n",
       "      <td>55.6464</td>\n",
       "      <td>0.9616</td>\n",
       "      <td>0.6603</td>\n",
       "      <td>270.772</td>\n",
       "    </tr>\n",
       "    <tr>\n",
       "      <th>108</th>\n",
       "      <td>267</td>\n",
       "      <td>309</td>\n",
       "      <td>32.1409</td>\n",
       "      <td>12.3124</td>\n",
       "      <td>0.9237</td>\n",
       "      <td>-14.8964</td>\n",
       "      <td>322</td>\n",
       "      <td>309</td>\n",
       "      <td>1</td>\n",
       "      <td>19.8351</td>\n",
       "      <td>0.9596</td>\n",
       "      <td>0.6897</td>\n",
       "      <td>71.512</td>\n",
       "    </tr>\n",
       "    <tr>\n",
       "      <th>109</th>\n",
       "      <td>147</td>\n",
       "      <td>280</td>\n",
       "      <td>36.6695</td>\n",
       "      <td>9.8078</td>\n",
       "      <td>0.9636</td>\n",
       "      <td>-12.5284</td>\n",
       "      <td>299</td>\n",
       "      <td>280</td>\n",
       "      <td>1</td>\n",
       "      <td>18.8814</td>\n",
       "      <td>0.9365</td>\n",
       "      <td>0.5821</td>\n",
       "      <td>77.971</td>\n",
       "    </tr>\n",
       "    <tr>\n",
       "      <th>110</th>\n",
       "      <td>5</td>\n",
       "      <td>647</td>\n",
       "      <td>51.4766</td>\n",
       "      <td>16.1911</td>\n",
       "      <td>0.9492</td>\n",
       "      <td>1.6437</td>\n",
       "      <td>673</td>\n",
       "      <td>650</td>\n",
       "      <td>-1</td>\n",
       "      <td>28.7017</td>\n",
       "      <td>0.9614</td>\n",
       "      <td>0.7929</td>\n",
       "      <td>110.191</td>\n",
       "    </tr>\n",
       "    <tr>\n",
       "      <th>111</th>\n",
       "      <td>163</td>\n",
       "      <td>2388</td>\n",
       "      <td>137.3139</td>\n",
       "      <td>22.6973</td>\n",
       "      <td>0.9862</td>\n",
       "      <td>-13.1826</td>\n",
       "      <td>2524</td>\n",
       "      <td>2396</td>\n",
       "      <td>-3</td>\n",
       "      <td>55.1407</td>\n",
       "      <td>0.9461</td>\n",
       "      <td>0.4455</td>\n",
       "      <td>288.976</td>\n",
       "    </tr>\n",
       "  </tbody>\n",
       "</table>\n",
       "<p>112 rows × 13 columns</p>\n",
       "</div>"
      ],
      "text/plain": [
       "     Unnamed: 0  Area  MajorAxisLenght  ...  Solidity  Extent  Perimeter\n",
       "0           307   333          51.3584  ...    0.5513  0.3246    137.284\n",
       "1           112   280          40.0339  ...    0.9241  0.5128     82.379\n",
       "2            11   726          55.9031  ...    0.9629  0.7492    120.876\n",
       "3           279   588          43.9936  ...    0.8816  0.5880    107.512\n",
       "4           302   165          27.6134  ...    0.9167  0.7366     58.561\n",
       "..          ...   ...              ...  ...       ...     ...        ...\n",
       "107         184  2432         128.1336  ...    0.9616  0.6603    270.772\n",
       "108         267   309          32.1409  ...    0.9596  0.6897     71.512\n",
       "109         147   280          36.6695  ...    0.9365  0.5821     77.971\n",
       "110           5   647          51.4766  ...    0.9614  0.7929    110.191\n",
       "111         163  2388         137.3139  ...    0.9461  0.4455    288.976\n",
       "\n",
       "[112 rows x 13 columns]"
      ]
     },
     "execution_count": 16,
     "metadata": {},
     "output_type": "execute_result"
    }
   ],
   "source": [
    "test"
   ]
  },
  {
   "cell_type": "code",
   "execution_count": null,
   "metadata": {
    "id": "nXE6vrFYsrV4"
   },
   "outputs": [],
   "source": [
    "y=all['Class']\n",
    "X=all.drop('Class', axis=1)"
   ]
  },
  {
   "cell_type": "code",
   "execution_count": null,
   "metadata": {
    "id": "KKvYHe-Hrzqo"
   },
   "outputs": [],
   "source": [
    "from sklearn.preprocessing import StandardScaler \n",
    "\n",
    "scale = StandardScaler() # Создаем экземпляр класса\n"
   ]
  },
  {
   "cell_type": "code",
   "execution_count": null,
   "metadata": {
    "id": "HC8xRi10uJWi"
   },
   "outputs": [],
   "source": [
    "from sklearn.model_selection import train_test_split\n",
    "\n",
    "# Разбиваем выборку на обучающую и тестовую\n",
    "X_train, X_test, y_train, y_test = train_test_split(X, y, test_size = 0.3, random_state = 42)"
   ]
  },
  {
   "cell_type": "code",
   "execution_count": null,
   "metadata": {
    "colab": {
     "base_uri": "https://localhost:8080/"
    },
    "id": "IXKHGVkUvYJg",
    "outputId": "00d20aa3-5e9d-49eb-d209-44c1361a3339"
   },
   "outputs": [
    {
     "data": {
      "text/plain": [
       "1.0"
      ]
     },
     "execution_count": 20,
     "metadata": {},
     "output_type": "execute_result"
    }
   ],
   "source": [
    "from sklearn.ensemble import RandomForestClassifier\n",
    "forest= RandomForestClassifier()\n",
    "forest.fit(X_train, y_train).score(X_test, y_test)"
   ]
  },
  {
   "cell_type": "code",
   "execution_count": null,
   "metadata": {
    "colab": {
     "base_uri": "https://localhost:8080/"
    },
    "id": "2bJNCPa2vsqP",
    "outputId": "8555f2b7-b4cc-45ec-a2c4-91774dc8c806"
   },
   "outputs": [
    {
     "name": "stdout",
     "output_type": "stream",
     "text": [
      "                precision    recall  f1-score   support\n",
      "\n",
      "        barley       1.00      1.00      1.00         9\n",
      "          peas       1.00      1.00      1.00         9\n",
      "sunflowerSeeds       1.00      1.00      1.00        15\n",
      "         wheat       1.00      1.00      1.00        13\n",
      "\n",
      "      accuracy                           1.00        46\n",
      "     macro avg       1.00      1.00      1.00        46\n",
      "  weighted avg       1.00      1.00      1.00        46\n",
      "\n"
     ]
    }
   ],
   "source": [
    "from sklearn.metrics import classification_report\n",
    "y_pred=forest.predict(X_test)\n",
    "\n",
    "print(classification_report(y_test,y_pred))"
   ]
  },
  {
   "cell_type": "code",
   "execution_count": null,
   "metadata": {
    "colab": {
     "base_uri": "https://localhost:8080/"
    },
    "id": "PmIulUy_MmLc",
    "outputId": "766dc6b5-ead6-4637-8a73-4334dc1aeecc"
   },
   "outputs": [
    {
     "data": {
      "text/plain": [
       "1.0"
      ]
     },
     "execution_count": 23,
     "metadata": {},
     "output_type": "execute_result"
    }
   ],
   "source": [
    "from sklearn.preprocessing import StandardScaler \n",
    "from sklearn.svm import LinearSVC\n",
    "X_scale = scale.fit_transform(X_train) \n",
    "X_scale_t = scale.fit_transform(X_test)\n",
    "D_test= scale.fit_transform(test)\n",
    "l=LinearSVC(random_state=42,  class_weight='balanced', C=10, max_iter=1500)\n",
    "l.fit(X_scale, y_train).score(X_scale_t, y_test)"
   ]
  },
  {
   "cell_type": "code",
   "execution_count": null,
   "metadata": {
    "colab": {
     "base_uri": "https://localhost:8080/"
    },
    "id": "YftiMcIdN0qy",
    "outputId": "22706d10-f4b8-4b38-d482-dd5553fb5e07"
   },
   "outputs": [
    {
     "name": "stdout",
     "output_type": "stream",
     "text": [
      "                precision    recall  f1-score   support\n",
      "\n",
      "        barley       1.00      1.00      1.00         9\n",
      "          peas       1.00      1.00      1.00         9\n",
      "sunflowerSeeds       1.00      1.00      1.00        15\n",
      "         wheat       1.00      1.00      1.00        13\n",
      "\n",
      "      accuracy                           1.00        46\n",
      "     macro avg       1.00      1.00      1.00        46\n",
      "  weighted avg       1.00      1.00      1.00        46\n",
      "\n"
     ]
    }
   ],
   "source": [
    "y_pred=l.predict(X_scale_t)\n",
    "\n",
    "print(classification_report(y_test,y_pred))"
   ]
  },
  {
   "cell_type": "code",
   "execution_count": null,
   "metadata": {
    "id": "patkq_DANfu2"
   },
   "outputs": [],
   "source": []
  }
 ],
 "metadata": {
  "colab": {
   "collapsed_sections": [],
   "name": "Задача B",
   "provenance": []
  },
  "kernelspec": {
   "display_name": "Python 3",
   "language": "python",
   "name": "python3"
  },
  "language_info": {
   "codemirror_mode": {
    "name": "ipython",
    "version": 3
   },
   "file_extension": ".py",
   "mimetype": "text/x-python",
   "name": "python",
   "nbconvert_exporter": "python",
   "pygments_lexer": "ipython3",
   "version": "3.8.8"
  }
 },
 "nbformat": 4,
 "nbformat_minor": 1
}
