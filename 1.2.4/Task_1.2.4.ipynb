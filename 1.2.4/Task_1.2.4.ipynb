{
 "cells": [
  {
   "cell_type": "code",
   "execution_count": 32,
   "id": "c6d667b4",
   "metadata": {},
   "outputs": [
    {
     "name": "stdout",
     "output_type": "stream",
     "text": [
      "qw wq\n",
      "wq qw\n"
     ]
    }
   ],
   "source": [
    "listed=input().split()\n",
    "Str=str(listed[1])+\" \"+str(listed[0])\n",
    "print(Str)"
   ]
  },
  {
   "cell_type": "code",
   "execution_count": 34,
   "id": "60a40092",
   "metadata": {},
   "outputs": [
    {
     "name": "stdout",
     "output_type": "stream",
     "text": [
      "1 2 3 \n",
      "3\n"
     ]
    }
   ],
   "source": [
    "listed=input().split()\n",
    "listed.sort()\n",
    "chek=0\n",
    "for i in range(len(listed)):\n",
    "    if listed[i]!=listed[i-1]:\n",
    "        chek+=1\n",
    "print(chek)"
   ]
  },
  {
   "cell_type": "code",
   "execution_count": 47,
   "id": "5abd7930",
   "metadata": {},
   "outputs": [
    {
     "name": "stdout",
     "output_type": "stream",
     "text": [
      "qwq\n",
      "Не пароним\n"
     ]
    }
   ],
   "source": [
    "word=input()\n",
    "listed=[]\n",
    "for i in word:\n",
    "    listed.append(i)\n",
    "if listed==listed.reverse():\n",
    "    print(\"Пароним\")\n",
    "else:\n",
    "    print(\"Не пароним\")"
   ]
  },
  {
   "cell_type": "code",
   "execution_count": 40,
   "id": "6e554d0b",
   "metadata": {},
   "outputs": [
    {
     "ename": "TypeError",
     "evalue": "'str' object is not callable",
     "output_type": "error",
     "traceback": [
      "\u001b[1;31m---------------------------------------------------------------------------\u001b[0m",
      "\u001b[1;31mTypeError\u001b[0m                                 Traceback (most recent call last)",
      "\u001b[1;32m<ipython-input-40-1abf045368a3>\u001b[0m in \u001b[0;36m<module>\u001b[1;34m\u001b[0m\n\u001b[0;32m      1\u001b[0m \u001b[0mk\u001b[0m \u001b[1;33m=\u001b[0m \u001b[0mreversed\u001b[0m\u001b[1;33m(\u001b[0m\u001b[1;34m'Python'\u001b[0m\u001b[1;33m)\u001b[0m\u001b[1;33m\u001b[0m\u001b[1;33m\u001b[0m\u001b[0m\n\u001b[1;32m----> 2\u001b[1;33m \u001b[0mlist\u001b[0m\u001b[1;33m(\u001b[0m\u001b[0mk\u001b[0m\u001b[1;33m)\u001b[0m\u001b[1;33m\u001b[0m\u001b[1;33m\u001b[0m\u001b[0m\n\u001b[0m",
      "\u001b[1;31mTypeError\u001b[0m: 'str' object is not callable"
     ]
    }
   ],
   "source": []
  },
  {
   "cell_type": "code",
   "execution_count": null,
   "id": "c183fe99",
   "metadata": {},
   "outputs": [],
   "source": []
  }
 ],
 "metadata": {
  "kernelspec": {
   "display_name": "Python 3",
   "language": "python",
   "name": "python3"
  },
  "language_info": {
   "codemirror_mode": {
    "name": "ipython",
    "version": 3
   },
   "file_extension": ".py",
   "mimetype": "text/x-python",
   "name": "python",
   "nbconvert_exporter": "python",
   "pygments_lexer": "ipython3",
   "version": "3.8.8"
  }
 },
 "nbformat": 4,
 "nbformat_minor": 5
}
