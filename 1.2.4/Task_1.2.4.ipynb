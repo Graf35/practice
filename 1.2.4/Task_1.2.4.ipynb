{
 "cells": [
  {
   "cell_type": "code",
   "execution_count": 32,
   "id": "ff96a09b",
   "metadata": {},
   "outputs": [
    {
     "name": "stdout",
     "output_type": "stream",
     "text": [
      "qw wq\n",
      "wq qw\n"
     ]
    }
   ],
   "source": [
    "listed=input().split()\n",
    "print(str(listed[1])+\" \"+str(listed[0]))"
   ]
  },
  {
   "cell_type": "code",
   "execution_count": 8,
   "id": "b69fcede",
   "metadata": {},
   "outputs": [
    {
     "name": "stdout",
     "output_type": "stream",
     "text": [
      "1 2 3 3 2 1 \n",
      "3\n"
     ]
    }
   ],
   "source": [
    "listed=input().split()\n",
    "listed.sort()\n",
    "chek=0\n",
    "for i in range(len(listed)):\n",
    "    if listed[i]!=listed[i-1]:\n",
    "        chek+=1\n",
    "print(chek)"
   ]
  },
  {
   "cell_type": "code",
   "execution_count": 5,
   "id": "6eaebc2d",
   "metadata": {},
   "outputs": [
    {
     "name": "stdout",
     "output_type": "stream",
     "text": [
      "qwe\n",
      "Не пароним\n"
     ]
    }
   ],
   "source": [
    "listed=[i for i in input()]\n",
    "if listed==list(reversed(listed)):\n",
    "    print(\"Пароним\")\n",
    "else:\n",
    "    print(\"Не пароним\")"
   ]
  },
  {
   "cell_type": "code",
   "execution_count": 15,
   "id": "b428d190",
   "metadata": {},
   "outputs": [
    {
     "name": "stdout",
     "output_type": "stream",
     "text": [
      "1 2 3 4 5 6 \n",
      "21\n"
     ]
    }
   ],
   "source": [
    "print(sum([int(i) for i in input().split()]))"
   ]
  },
  {
   "cell_type": "code",
   "execution_count": 20,
   "id": "01fecd1a",
   "metadata": {},
   "outputs": [
    {
     "name": "stdout",
     "output_type": "stream",
     "text": [
      "34\n",
      "9\n"
     ]
    }
   ],
   "source": [
    "listed=[int(i) for i in input()]\n",
    "chek=[]\n",
    "for i in range(len(listed)):\n",
    "    if listed[i]%2!=0:\n",
    "        chek.append(listed[i]**2)\n",
    "print(sum(chek))"
   ]
  },
  {
   "cell_type": "code",
   "execution_count": 24,
   "id": "01eddebc",
   "metadata": {},
   "outputs": [
    {
     "name": "stdout",
     "output_type": "stream",
     "text": [
      "QW3E9RAZ2T\n",
      "QWEEERRRRRRRRRAZTT\n"
     ]
    }
   ],
   "source": [
    "listed=[i for i in input()]\n",
    "score=1\n",
    "anser=''\n",
    "for i in range(len(listed)):\n",
    "    try:\n",
    "        if 2<=int(listed[i])<=9:\n",
    "            score=int(listed[i])\n",
    "    except ValueError:\n",
    "        vol=listed[i]\n",
    "        for i in range(score):\n",
    "            anser+=vol\n",
    "        score=1\n",
    "print(anser)"
   ]
  },
  {
   "cell_type": "code",
   "execution_count": 30,
   "id": "ca3cb6b9",
   "metadata": {},
   "outputs": [
    {
     "name": "stdout",
     "output_type": "stream",
     "text": [
      "Введите длинну пароля: 5\n",
      "Ваш пароль: -M'ai\n"
     ]
    }
   ],
   "source": [
    "from random import choice\n",
    "\n",
    "def pasword():\n",
    "    listed=['1', '2', '3', '4', '5', '6', '7', '8', '9', '0', '-', '=', 'q', 'w', 'e', 'r', 't', 'y', 'u', 'i', 'o', 'p', '[', ']', 'a', 's', 'd', 'f', 'g', 'h', 'j', 'k', 'l', ';', \"'\", '\\\\', 'z', 'x', 'c', 'v', 'b', 'n', 'm', ',', '.', '/', 'Q', 'W', 'E', 'R', 'T', 'Y', 'U', 'I', 'O', 'P', 'A', 'S', 'D', 'F', 'G', 'H', 'J', 'K', 'L', 'Z', 'X', 'C', 'V', 'B', 'N', 'M']\n",
    "    score=int(input(\"Введите длинну пароля: \"))\n",
    "    password=''\n",
    "    for i in range(score):\n",
    "        password+=choice(listed)\n",
    "    return(password)"
   ]
  },
  {
   "cell_type": "code",
   "execution_count": null,
   "id": "be957702",
   "metadata": {},
   "outputs": [],
   "source": []
  }
 ],
 "metadata": {
  "kernelspec": {
   "display_name": "Python 3",
   "language": "python",
   "name": "python3"
  },
  "language_info": {
   "codemirror_mode": {
    "name": "ipython",
    "version": 3
   },
   "file_extension": ".py",
   "mimetype": "text/x-python",
   "name": "python",
   "nbconvert_exporter": "python",
   "pygments_lexer": "ipython3",
   "version": "3.8.8"
  }
 },
 "nbformat": 4,
 "nbformat_minor": 5
}
