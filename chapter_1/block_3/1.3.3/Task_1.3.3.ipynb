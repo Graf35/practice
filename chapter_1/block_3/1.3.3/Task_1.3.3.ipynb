{
 "cells": [
  {
   "cell_type": "code",
   "execution_count": 274,
   "id": "2538e68b",
   "metadata": {},
   "outputs": [],
   "source": [
    "import pandas as pd\n",
    "import numpy as np\n",
    "\n",
    "df=pd.read_csv(\"wr88125.txt\", names=['index', 'year', 'month', 'day', 'min_t', 'average_t', 'max_t', 'rainfall'], sep=\";\", skipinitialspace=True)"
   ]
  },
  {
   "cell_type": "code",
   "execution_count": 275,
   "id": "2090549b",
   "metadata": {
    "scrolled": true
   },
   "outputs": [],
   "source": [
    "df=df.drop(columns=[\"index\"])"
   ]
  },
  {
   "cell_type": "code",
   "execution_count": 276,
   "id": "e8c422c2",
   "metadata": {},
   "outputs": [
    {
     "name": "stdout",
     "output_type": "stream",
     "text": [
      "<class 'pandas.core.frame.DataFrame'>\n",
      "RangeIndex: 22281 entries, 0 to 22280\n",
      "Data columns (total 7 columns):\n",
      " #   Column     Non-Null Count  Dtype  \n",
      "---  ------     --------------  -----  \n",
      " 0   year       22281 non-null  int64  \n",
      " 1   month      22281 non-null  int64  \n",
      " 2   day        22281 non-null  int64  \n",
      " 3   min_t      22255 non-null  float64\n",
      " 4   average_t  22255 non-null  float64\n",
      " 5   max_t      21717 non-null  float64\n",
      " 6   rainfall   22253 non-null  float64\n",
      "dtypes: float64(4), int64(3)\n",
      "memory usage: 1.2 MB\n"
     ]
    },
    {
     "data": {
      "text/plain": [
       "year           0\n",
       "month          0\n",
       "day            0\n",
       "min_t         26\n",
       "average_t     26\n",
       "max_t        564\n",
       "rainfall      28\n",
       "dtype: int64"
      ]
     },
     "execution_count": 276,
     "metadata": {},
     "output_type": "execute_result"
    }
   ],
   "source": [
    "df.info(verbose=True)\n",
    "#Да, существуют.\n",
    "\n",
    "df.isnull().sum()\n",
    "#В строке max_t больше всего пропущенных значений."
   ]
  },
  {
   "cell_type": "code",
   "execution_count": 277,
   "id": "647320d9",
   "metadata": {},
   "outputs": [],
   "source": [
    "min_count=df.groupby(pd.Grouper(key=\"year\")).count().sum(axis=1).min()\n",
    "df2=df.groupby(pd.Grouper(key=\"year\")).count().sum(axis=1)\n",
    "k=df2.keys()\n",
    "v=df2.values\n",
    "s = pd.Series(data = k, index = v)\n",
    "s[min_count]\n",
    "df4=df.groupby(pd.Grouper(key=\"year\"))"
   ]
  },
  {
   "cell_type": "code",
   "execution_count": 278,
   "id": "35e7472a",
   "metadata": {},
   "outputs": [
    {
     "name": "stderr",
     "output_type": "stream",
     "text": [
      "<ipython-input-278-d998ca2c871c>:7: SettingWithCopyWarning: \n",
      "A value is trying to be set on a copy of a slice from a DataFrame\n",
      "\n",
      "See the caveats in the documentation: https://pandas.pydata.org/pandas-docs/stable/user_guide/indexing.html#returning-a-view-versus-a-copy\n",
      "  df[\"year\"][i]=str(df[\"year\"][i])+'-'+str(df[\"month\"][i])+'-'+str(df[\"day\"][i])\n",
      "C:\\Users\\Graf35\\anaconda3\\lib\\site-packages\\pandas\\core\\indexing.py:1637: SettingWithCopyWarning: \n",
      "A value is trying to be set on a copy of a slice from a DataFrame\n",
      "\n",
      "See the caveats in the documentation: https://pandas.pydata.org/pandas-docs/stable/user_guide/indexing.html#returning-a-view-versus-a-copy\n",
      "  self._setitem_single_block(indexer, value, name)\n"
     ]
    },
    {
     "data": {
      "text/plain": [
       "27"
      ]
     },
     "execution_count": 278,
     "metadata": {},
     "output_type": "execute_result"
    }
   ],
   "source": [
    "range_t=[]\n",
    "precipitation=[]\n",
    "chek=0\n",
    "average_min_t=[]\n",
    "average_max_t=[]\n",
    "for i in range(df.shape[0]):\n",
    "    df[\"year\"][i]=str(df[\"year\"][i])+'-'+str(df[\"month\"][i])+'-'+str(df[\"day\"][i])\n",
    "    range_t.append(round((df[\"max_t\"][i]-df[\"min_t\"][i]), 2))\n",
    "    if df[\"rainfall\"][i]!=0:\n",
    "        chek=0\n",
    "    else:\n",
    "        chek+=1\n",
    "    if df[\"average_t\"][i]>27:\n",
    "        average_max_t.append(df[\"year\"][i])\n",
    "    if df[\"average_t\"][i]<-30 and chek>3:\n",
    "        average_min_t.append(df[\"year\"][i])\n",
    "    precipitation.append(chek)\n",
    "df=df.drop(columns=[\"month\", \"day\"])\n",
    "df['year'] = pd.to_datetime(df['year'])\n",
    "df=df.rename(columns={'year': 'date', 'min_t': 'min_t', 'average_t':'average_t', 'max_t': 'max_t', 'rainfall' : 'rainfall'})\n",
    "df3 = pd.DataFrame({\"range_t\": range_t, \"precipitation\": precipitation})\n",
    "df=pd.concat([df, df3], axis=1)\n",
    "df[\"precipitation\"].max()"
   ]
  },
  {
   "cell_type": "code",
   "execution_count": 279,
   "id": "11cb1d4d",
   "metadata": {},
   "outputs": [
    {
     "name": "stdout",
     "output_type": "stream",
     "text": [
      "2020 1969\n",
      "1970\n"
     ]
    }
   ],
   "source": [
    "max_t=df4[\"average_t\"].mean().max()\n",
    "min_t=df4[\"average_t\"].mean().min()\n",
    "df_average_t=df4[\"average_t\"].mean()\n",
    "k=df_average_t.keys()\n",
    "v=df_average_t.values\n",
    "year_average_t = pd.Series(data = k, index = v)\n",
    "print(year_average_t[max_t], year_average_t[min_t])\n",
    "rain=df4[\"rainfall\"].sum().max()\n",
    "df_rain=df4[\"rainfall\"].sum()\n",
    "k=df_rain.keys()\n",
    "v=df_rain.values\n",
    "year_rain = pd.Series(data = k, index = v)\n",
    "print(year_rain[rain])"
   ]
  },
  {
   "cell_type": "code",
   "execution_count": null,
   "id": "dedb8efa",
   "metadata": {},
   "outputs": [],
   "source": []
  },
  {
   "cell_type": "code",
   "execution_count": null,
   "id": "afa50d99",
   "metadata": {},
   "outputs": [],
   "source": []
  },
  {
   "cell_type": "code",
   "execution_count": null,
   "id": "66283271",
   "metadata": {},
   "outputs": [],
   "source": []
  },
  {
   "cell_type": "code",
   "execution_count": null,
   "id": "9474651d",
   "metadata": {},
   "outputs": [],
   "source": []
  }
 ],
 "metadata": {
  "kernelspec": {
   "display_name": "Python 3",
   "language": "python",
   "name": "python3"
  },
  "language_info": {
   "codemirror_mode": {
    "name": "ipython",
    "version": 3
   },
   "file_extension": ".py",
   "mimetype": "text/x-python",
   "name": "python",
   "nbconvert_exporter": "python",
   "pygments_lexer": "ipython3",
   "version": "3.8.8"
  }
 },
 "nbformat": 4,
 "nbformat_minor": 5
}
