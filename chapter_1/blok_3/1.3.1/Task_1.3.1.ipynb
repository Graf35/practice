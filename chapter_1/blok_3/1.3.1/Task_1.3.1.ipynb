{
 "cells": [
  {
   "cell_type": "code",
   "execution_count": 2,
   "id": "017fc6dc",
   "metadata": {},
   "outputs": [
    {
     "name": "stdout",
     "output_type": "stream",
     "text": [
      "[[3 3 3 3]\n",
      " [3 3 3 3]\n",
      " [3 3 3 3]]\n"
     ]
    }
   ],
   "source": [
    "import numpy as np\n",
    "\n",
    "arr_1=np.full((3, 4), 3, dtype=int)\n",
    "print(arr_1)"
   ]
  },
  {
   "cell_type": "code",
   "execution_count": 3,
   "id": "e1b97cf0",
   "metadata": {},
   "outputs": [
    {
     "name": "stdout",
     "output_type": "stream",
     "text": [
      "[[2 7 0 8]\n",
      " [3 8 1 0]]\n"
     ]
    }
   ],
   "source": [
    "arr_2 = np.random.randint(0, 9, (2, 4))\n",
    "print(arr_2)"
   ]
  },
  {
   "cell_type": "code",
   "execution_count": 4,
   "id": "e9e2f2ab",
   "metadata": {},
   "outputs": [
    {
     "name": "stdout",
     "output_type": "stream",
     "text": [
      "12 8\n"
     ]
    }
   ],
   "source": [
    "print(arr_1.size, arr_2.size)"
   ]
  },
  {
   "cell_type": "code",
   "execution_count": 94,
   "id": "45a61cce",
   "metadata": {},
   "outputs": [
    {
     "name": "stdout",
     "output_type": "stream",
     "text": [
      "[[3 3 3 3]\n",
      " [3 3 3 3]\n",
      " [3 3 3 3]\n",
      " [7 0 6 4]\n",
      " [0 6 5 5]]\n"
     ]
    }
   ],
   "source": [
    "print(np.concatenate([arr_1, arr_2], axis=0 ))"
   ]
  },
  {
   "cell_type": "code",
   "execution_count": 95,
   "id": "0354215e",
   "metadata": {},
   "outputs": [
    {
     "name": "stdout",
     "output_type": "stream",
     "text": [
      "[1 8 6 5 8 3]\n"
     ]
    }
   ],
   "source": [
    "arr_3=np.array((1, 8, 6, 5, 8, 3))\n",
    "print(arr_3)"
   ]
  },
  {
   "cell_type": "code",
   "execution_count": 96,
   "id": "db4a5812",
   "metadata": {},
   "outputs": [
    {
     "name": "stdout",
     "output_type": "stream",
     "text": [
      "[ 4 25 19 16 25 10]\n"
     ]
    }
   ],
   "source": [
    "arr_4=arr_3*3+1\n",
    "print(arr_4)"
   ]
  },
  {
   "cell_type": "code",
   "execution_count": 97,
   "id": "f80e4931",
   "metadata": {},
   "outputs": [
    {
     "name": "stdout",
     "output_type": "stream",
     "text": [
      "[[1 8 6]\n",
      " [5 8 3]]\n"
     ]
    }
   ],
   "source": [
    "arr_5=arr_3.reshape(2,3)\n",
    "print(arr_5)"
   ]
  },
  {
   "cell_type": "code",
   "execution_count": 98,
   "id": "e86c930c",
   "metadata": {},
   "outputs": [
    {
     "data": {
      "text/plain": [
       "array([1, 3])"
      ]
     },
     "execution_count": 98,
     "metadata": {},
     "output_type": "execute_result"
    }
   ],
   "source": [
    "arr_5.min(axis=1)"
   ]
  },
  {
   "cell_type": "code",
   "execution_count": 99,
   "id": "27e01c15",
   "metadata": {},
   "outputs": [
    {
     "name": "stdout",
     "output_type": "stream",
     "text": [
      "5.166666666666667\n"
     ]
    }
   ],
   "source": [
    "print(np.sum(arr_5)/arr_5.size)"
   ]
  },
  {
   "cell_type": "code",
   "execution_count": 5,
   "id": "422ed0fa",
   "metadata": {},
   "outputs": [
    {
     "name": "stdout",
     "output_type": "stream",
     "text": [
      "[  0   1   4   9  16  25  36  49  64  81 100]\n"
     ]
    }
   ],
   "source": [
    "arr_6=np.arange(11)\n",
    "arr_6=arr_6**2\n",
    "print(arr_6)"
   ]
  },
  {
   "cell_type": "code",
   "execution_count": 6,
   "id": "0c29daf0",
   "metadata": {},
   "outputs": [
    {
     "name": "stdout",
     "output_type": "stream",
     "text": [
      "[ 1  9 25 49 81]\n"
     ]
    }
   ],
   "source": [
    "print(arr_6[1::2])"
   ]
  },
  {
   "cell_type": "code",
   "execution_count": 7,
   "id": "98762530",
   "metadata": {},
   "outputs": [
    {
     "name": "stdout",
     "output_type": "stream",
     "text": [
      "[100  81  64  49  36  25  16   9   4   1   0]\n"
     ]
    }
   ],
   "source": [
    "print(arr_6[::-1])"
   ]
  },
  {
   "cell_type": "code",
   "execution_count": 8,
   "id": "ab787ec6",
   "metadata": {},
   "outputs": [
    {
     "name": "stdout",
     "output_type": "stream",
     "text": [
      "[  0   2   4   2  16   2  36   2  64   2 100]\n"
     ]
    }
   ],
   "source": [
    "for i in range(arr_6.size):\n",
    "    if np.any(arr_6[1::2]==arr_6[i]):\n",
    "        arr_6[i]=2\n",
    "print(arr_6)"
   ]
  },
  {
   "cell_type": "code",
   "execution_count": 9,
   "id": "907b1891",
   "metadata": {},
   "outputs": [
    {
     "name": "stdout",
     "output_type": "stream",
     "text": [
      "False\n"
     ]
    }
   ],
   "source": [
    "print(np.any(arr_6==49))"
   ]
  },
  {
   "cell_type": "code",
   "execution_count": 105,
   "id": "2e467369",
   "metadata": {},
   "outputs": [
    {
     "name": "stdout",
     "output_type": "stream",
     "text": [
      "[ -5  -1  -6 -10  -4  -7 -10  -1  -8  -1  -2]\n"
     ]
    }
   ],
   "source": [
    "b=[]\n",
    "a=np.random.randint(-10, 10, (2, 10))\n",
    "for i in range(a.ndim):\n",
    "    for j in range(a.shape[1]):\n",
    "        if a[i][j]<0:\n",
    "            b.append(a[i][j])\n",
    "b=np.array(b)\n",
    "print(b)"
   ]
  },
  {
   "cell_type": "code",
   "execution_count": null,
   "id": "963051ed",
   "metadata": {},
   "outputs": [],
   "source": []
  }
 ],
 "metadata": {
  "kernelspec": {
   "display_name": "Python 3",
   "language": "python",
   "name": "python3"
  },
  "language_info": {
   "codemirror_mode": {
    "name": "ipython",
    "version": 3
   },
   "file_extension": ".py",
   "mimetype": "text/x-python",
   "name": "python",
   "nbconvert_exporter": "python",
   "pygments_lexer": "ipython3",
   "version": "3.8.8"
  }
 },
 "nbformat": 4,
 "nbformat_minor": 5
}
