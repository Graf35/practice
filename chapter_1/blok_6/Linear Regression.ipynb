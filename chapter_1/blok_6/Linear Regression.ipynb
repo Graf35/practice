{
 "cells": [
  {
   "cell_type": "markdown",
   "metadata": {},
   "source": [
    "### Линейная регрессия в sklearn"
   ]
  },
  {
   "cell_type": "code",
   "execution_count": 1,
   "metadata": {},
   "outputs": [],
   "source": [
    "import numpy as np\n",
    "import matplotlib.pyplot as plt\n",
    "from sklearn.linear_model import LinearRegression # Импортируем класс LinearRegression"
   ]
  },
  {
   "cell_type": "code",
   "execution_count": 2,
   "metadata": {},
   "outputs": [],
   "source": [
    "X = np.array([5, 15, 18, 20, 30, 35, 45, 45, 50, 55]) # Значения признака\n",
    "y = np.array([5, 10, 14, 18, 18, 24, 25, 30, 30, 38]) # Значение целевой переменной"
   ]
  },
  {
   "cell_type": "code",
   "execution_count": 3,
   "metadata": {},
   "outputs": [
    {
     "data": {
      "text/plain": [
       "<matplotlib.collections.PathCollection at 0x1ef4be239a0>"
      ]
     },
     "execution_count": 3,
     "metadata": {},
     "output_type": "execute_result"
    },
    {
     "data": {
      "image/png": "[encoded data removed]",
      "text/plain": [
       "<Figure size 432x288 with 1 Axes>"
      ]
     },
     "metadata": {
      "needs_background": "light"
     },
     "output_type": "display_data"
    }
   ],
   "source": [
    "plt.scatter(X, y)"
   ]
  },
  {
   "cell_type": "code",
   "execution_count": 4,
   "metadata": {},
   "outputs": [],
   "source": [
    "X_ = X.reshape(-1,1) # Преобразуем X"
   ]
  },
  {
   "cell_type": "code",
   "execution_count": 5,
   "metadata": {},
   "outputs": [
    {
     "data": {
      "text/plain": [
       "array([[ 5],\n",
       "       [15],\n",
       "       [18],\n",
       "       [20],\n",
       "       [30],\n",
       "       [35],\n",
       "       [45],\n",
       "       [45],\n",
       "       [50],\n",
       "       [55]])"
      ]
     },
     "execution_count": 5,
     "metadata": {},
     "output_type": "execute_result"
    }
   ],
   "source": [
    "X.reshape(-1,1)"
   ]
  },
  {
   "cell_type": "code",
   "execution_count": 6,
   "metadata": {},
   "outputs": [
    {
     "data": {
      "text/plain": [
       "LinearRegression()"
      ]
     },
     "execution_count": 6,
     "metadata": {},
     "output_type": "execute_result"
    }
   ],
   "source": [
    "reg = LinearRegression() # Создаем экземпляр класса\n",
    "reg.fit(X_, y) # Обучаем"
   ]
  },
  {
   "cell_type": "code",
   "execution_count": 7,
   "metadata": {},
   "outputs": [
    {
     "data": {
      "text/plain": [
       "0.9429646379668645"
      ]
     },
     "execution_count": 7,
     "metadata": {},
     "output_type": "execute_result"
    }
   ],
   "source": [
    "reg.score(X_, y) # Оценка качества"
   ]
  },
  {
   "cell_type": "code",
   "execution_count": 8,
   "metadata": {},
   "outputs": [
    {
     "data": {
      "text/plain": [
       "2.6980012492192316"
      ]
     },
     "execution_count": 8,
     "metadata": {},
     "output_type": "execute_result"
    }
   ],
   "source": [
    "reg.intercept_ # Значение w0"
   ]
  },
  {
   "cell_type": "code",
   "execution_count": 9,
   "metadata": {},
   "outputs": [
    {
     "data": {
      "text/plain": [
       "array([0.58182386])"
      ]
     },
     "execution_count": 9,
     "metadata": {},
     "output_type": "execute_result"
    }
   ],
   "source": [
    "reg.coef_ # Значение коэффициента w1"
   ]
  },
  {
   "cell_type": "code",
   "execution_count": 10,
   "metadata": {},
   "outputs": [
    {
     "data": {
      "text/plain": [
       "array([ 2.69800125,  3.27982511,  3.86164897,  4.44347283,  5.02529669,\n",
       "        5.60712055,  6.18894441,  6.77076827,  7.35259213,  7.93441599,\n",
       "        8.51623985,  9.09806371,  9.67988757, 10.26171143, 10.84353529,\n",
       "       11.42535915, 12.00718301, 12.58900687, 13.17083073, 13.75265459,\n",
       "       14.33447845, 14.91630231, 15.49812617, 16.07995003, 16.66177389,\n",
       "       17.24359775, 17.82542161, 18.40724547, 18.98906933, 19.57089319,\n",
       "       20.15271705, 20.73454091, 21.31636477, 21.89818863, 22.48001249,\n",
       "       23.06183635, 23.64366021, 24.22548407, 24.80730793, 25.38913179,\n",
       "       25.97095565, 26.55277951, 27.13460337, 27.71642723, 28.29825109,\n",
       "       28.88007495, 29.46189881, 30.04372267, 30.62554653, 31.20737039,\n",
       "       31.78919425, 32.37101811, 32.95284197, 33.53466583, 34.11648969,\n",
       "       34.69831355, 35.28013741, 35.86196127, 36.44378513, 37.02560899,\n",
       "       37.60743285, 38.18925671, 38.77108057, 39.35290443, 39.93472829,\n",
       "       40.51655215, 41.09837601, 41.68019988, 42.26202374, 42.8438476 ])"
      ]
     },
     "execution_count": 10,
     "metadata": {},
     "output_type": "execute_result"
    }
   ],
   "source": [
    "y1 = np.array([reg.intercept_ + i*reg.coef_[0] for i in range(0,70)])\n",
    "y1"
   ]
  },
  {
   "cell_type": "code",
   "execution_count": 11,
   "metadata": {},
   "outputs": [
    {
     "data": {
      "text/plain": [
       "[<matplotlib.lines.Line2D at 0x1ef4c5a1e80>]"
      ]
     },
     "execution_count": 11,
     "metadata": {},
     "output_type": "execute_result"
    },
    {
     "data": {
      "image/png": "[encoded data removed]",
      "text/plain": [
       "<Figure size 432x288 with 1 Axes>"
      ]
     },
     "metadata": {
      "needs_background": "light"
     },
     "output_type": "display_data"
    }
   ],
   "source": [
    "plt.scatter(X, y)\n",
    "plt.plot(y1, color = 'red')"
   ]
  },
  {
   "cell_type": "code",
   "execution_count": 12,
   "metadata": {},
   "outputs": [],
   "source": [
    "# Протестируем модель\n",
    "X_pred = np.array([22, 27, 48, 60, 65, 1, 33, 55]) # Задаем значения признака х \n",
    "y_pred = reg.predict(X_pred.reshape(-1,1)) # Делаем предсказание"
   ]
  },
  {
   "cell_type": "code",
   "execution_count": 13,
   "metadata": {},
   "outputs": [
    {
     "data": {
      "text/plain": [
       "array([15.49812617, 18.40724547, 30.62554653, 37.60743285, 40.51655215,\n",
       "        3.27982511, 21.89818863, 34.69831355])"
      ]
     },
     "execution_count": 13,
     "metadata": {},
     "output_type": "execute_result"
    }
   ],
   "source": [
    "y_pred # Это предсказанные значения! Т.е. мы подставили каждое значение x в уравнение регрессии.\n",
    "# Эти значения, конечно, могут отличаться от реальных ответов y."
   ]
  },
  {
   "cell_type": "code",
   "execution_count": 14,
   "metadata": {},
   "outputs": [
    {
     "data": {
      "text/plain": [
       "[<matplotlib.lines.Line2D at 0x1ef4c614df0>]"
      ]
     },
     "execution_count": 14,
     "metadata": {},
     "output_type": "execute_result"
    },
    {
     "data": {
      "image/png": "[encoded data removed]",
      "text/plain": [
       "<Figure size 432x288 with 1 Axes>"
      ]
     },
     "metadata": {
      "needs_background": "light"
     },
     "output_type": "display_data"
    }
   ],
   "source": [
    "plt.scatter(X, y)\n",
    "plt.scatter(X_pred, y_pred, color = 'green')\n",
    "plt.plot(y1, color = 'red')"
   ]
  },
  {
   "cell_type": "code",
   "execution_count": null,
   "metadata": {},
   "outputs": [],
   "source": []
  }
 ],
 "metadata": {
  "kernelspec": {
   "display_name": "Python 3",
   "language": "python",
   "name": "python3"
  },
  "language_info": {
   "codemirror_mode": {
    "name": "ipython",
    "version": 3
   },
   "file_extension": ".py",
   "mimetype": "text/x-python",
   "name": "python",
   "nbconvert_exporter": "python",
   "pygments_lexer": "ipython3",
   "version": "3.8.8"
  }
 },
 "nbformat": 4,
 "nbformat_minor": 4
}
