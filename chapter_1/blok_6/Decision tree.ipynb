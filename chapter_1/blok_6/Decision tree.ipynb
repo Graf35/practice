{
 "cells": [
  {
   "cell_type": "markdown",
   "id": "185cb3c3",
   "metadata": {},
   "source": [
    "### Деревья решений"
   ]
  },
  {
   "cell_type": "markdown",
   "id": "779bf712",
   "metadata": {},
   "source": [
    "*Дерево решений (решающее дерево, decision tree)* – это модель, представляющая собой совокупность правил для принятия решений."
   ]
  },
  {
   "cell_type": "markdown",
   "id": "5128ca4d",
   "metadata": {},
   "source": [
    "Деревья решений:\n",
    "- позволяют решать задачи классификации и регрессии  \n",
    "- подходят для решения линейных и нелинейных задач  \n",
    "- легко интерпретируемы  \n",
    "- не требуют подготовки данных (нормализации или стандартизации)  \n",
    "- осуществляют отбор признаков  \n",
    "- легко переобучается  "
   ]
  },
  {
   "cell_type": "markdown",
   "id": "01fb772b",
   "metadata": {},
   "source": [
    "**Рассмтрим деревья решений для задач классификации**"
   ]
  },
  {
   "cell_type": "markdown",
   "id": "3cd97fd1",
   "metadata": {},
   "source": [
    "В наиболее простом виде дерево решений – это способ представления\n",
    "правил в иерархической, последовательной структуре. Основа такой структуры –\n",
    "ответы \"Да\" или \"Нет\" на ряд вопросов. При этом, задаваемый вопрос на каждом последующем иерархическом уровне зависит от ответа, полученного на предыдущем уровне."
   ]
  },
  {
   "cell_type": "markdown",
   "id": "209a8eb6",
   "metadata": {},
   "source": [
    "![img](https://habrastorage.org/getpro/habr/upload_files/476/3a4/023/4763a4023eecc0c33289aa195cf6e147)"
   ]
  },
  {
   "cell_type": "markdown",
   "id": "4894c8c1",
   "metadata": {},
   "source": [
    "Моменты принятия решений соответствуют так называемым узлам (nodes). В узлах происходит ветвление процесса (branching), т.е. деление его на так называемые ветви (branches) в зависимости от сделанного выбора. Конечные узлы называют листьями (leafs, leaf nodes). Каждый лист – это конечный результат последовательного принятия решений.\n",
    "Данные, подлежащие классификации, находятся в так называемом «корне» дерева (root). В зависимости от решения, принимаемого в узлах, процесс в конце концов останавливается в\n",
    "одном из листьев, где переменной отклика (искомому номеру класса) присваивается то или иное значение."
   ]
  },
  {
   "cell_type": "markdown",
   "id": "535ebb90",
   "metadata": {},
   "source": [
    "В Sklearn деревья решений реализованы в модуле tree: https://scikit-learn.org/stable/modules/classes.html#module-sklearn.tree"
   ]
  },
  {
   "cell_type": "markdown",
   "id": "7db1ad41",
   "metadata": {},
   "source": [
    "Деревья решений для классификации: https://scikit-learn.org/stable/modules/generated/sklearn.tree.DecisionTreeClassifier.html#sklearn.tree.DecisionTreeClassifier  \n",
    "        \n",
    "Деревья решений для регрессии: https://scikit-learn.org/stable/modules/generated/sklearn.tree.DecisionTreeRegressor.html#sklearn.tree.DecisionTreeRegressor"
   ]
  },
  {
   "cell_type": "markdown",
   "id": "18f0b342",
   "metadata": {},
   "source": [
    "В настоящее время разработано большое количество алгоритмов построения деревьев решений: ID3, CART, C4.5, C5.0, NewId, ITrule, CHAID, CN2 и т.д. \n",
    "В Sklearn используется CART."
   ]
  },
  {
   "cell_type": "markdown",
   "id": "61114da2",
   "metadata": {},
   "source": [
    "*Как происходит построение дерева?*"
   ]
  },
  {
   "cell_type": "markdown",
   "id": "51e1935c",
   "metadata": {},
   "source": [
    "В примере \"Выдавать ли кредит?\" мы видели, что решение о выдаче кредита принималось на основе возраста, кредитной истории, наличия бизнес-плана и др. Но\n",
    "какой признак выбрать первым? Какие использовать в следующих узлах?"
   ]
  },
  {
   "cell_type": "markdown",
   "id": "ac5107c8",
   "metadata": {},
   "source": [
    "*Общее правило*: Выбранный признак должен разбить множество объектов в узле так, чтобы получившиеся подмножества содержали объекты с одинаковыми метками класса, или были максимально приближены к этому. Для этого используются различные критерии (энтропия, мера неоднородности Джини, ошибка классификации).    "
   ]
  },
  {
   "cell_type": "markdown",
   "id": "e21f65cd",
   "metadata": {},
   "source": [
    "Теоретически можно построить дерево, в котором для каждого объекта будет создан отдельный лист. Скорее всего, такое дерево окажется бесполезным, поскольку оно будет переобученным. Решением проблемы является принудительная остановка построения дерева, пока оно не стало переобученным. Для этого используются следующие подходы:  \n",
    "- Ранняя остановка – алгоритм будет остановлен, как только будет достигнуто заданное значение некоторого критерия, например процентной доли правильно классифицированных объектов.  \n",
    "- Ограничение глубины дерева – задание максимального числа разбиений в ветвях, по достижении которого обучение останавливается (может привести к снижению качества дерева).  \n",
    "- Ограничение минимального числа объектов в листе.  \n",
    "- Ограничение максимального количества листьев в дереве.  \n"
   ]
  },
  {
   "cell_type": "markdown",
   "id": "b24c7bc4",
   "metadata": {},
   "source": [
    "Альтернативный метод борьбы с переобучением - *отсечение ветвей (pruning)*:  \n",
    "1. Построить полное дерево (максимально переобученное).  \n",
    "2. Определить критерий, в соответствии с которым нужно убирать (стричь) листья. Например, можно стричь дерево пока улучшается качество на тестовой выборке.\n",
    "3. Стричь дерево!\n",
    "\n",
    "Стрижки редко используются и не реализованы в большинстве библиотек для анализа данных. Причина заключается\n",
    "в том, что деревья сами по себе являются слабыми алгоритмами и чаще они используются в композициях, где достаточно простых критериев остановки."
   ]
  },
  {
   "cell_type": "markdown",
   "id": "f26836d9",
   "metadata": {},
   "source": [
    "##### Рассмотрим пример:"
   ]
  },
  {
   "cell_type": "markdown",
   "id": "6af2b89e",
   "metadata": {},
   "source": [
    "Класс DecisionTreeClassifier  \n",
    "https://scikit-learn.org/stable/modules/generated/sklearn.tree.DecisionTreeClassifier.html  \n",
    "Параметры (гиперпараметры):\n",
    "- criterion - критерий расщепления (по умолчанию gini - Джини)  \n",
    "- max_depth - максимальная глубина дерева \n",
    "- min_samples_split - минимальное количество объектов, необходимое для разделения узла  \n",
    "- min_samples_leaf - минимальное количество объектов в листе"
   ]
  },
  {
   "cell_type": "code",
   "execution_count": 1,
   "id": "0dbf7d4b",
   "metadata": {},
   "outputs": [],
   "source": [
    "import pandas as pd"
   ]
  },
  {
   "cell_type": "code",
   "execution_count": 2,
   "id": "c01a2b6b",
   "metadata": {},
   "outputs": [
    {
     "data": {
      "text/html": [
       "<div>\n",
       "<style scoped>\n",
       "    .dataframe tbody tr th:only-of-type {\n",
       "        vertical-align: middle;\n",
       "    }\n",
       "\n",
       "    .dataframe tbody tr th {\n",
       "        vertical-align: top;\n",
       "    }\n",
       "\n",
       "    .dataframe thead th {\n",
       "        text-align: right;\n",
       "    }\n",
       "</style>\n",
       "<table border=\"1\" class=\"dataframe\">\n",
       "  <thead>\n",
       "    <tr style=\"text-align: right;\">\n",
       "      <th></th>\n",
       "      <th>survived</th>\n",
       "      <th>pclass</th>\n",
       "      <th>sex</th>\n",
       "      <th>age</th>\n",
       "      <th>alone</th>\n",
       "    </tr>\n",
       "  </thead>\n",
       "  <tbody>\n",
       "    <tr>\n",
       "      <th>0</th>\n",
       "      <td>0</td>\n",
       "      <td>3</td>\n",
       "      <td>1</td>\n",
       "      <td>22.0</td>\n",
       "      <td>0</td>\n",
       "    </tr>\n",
       "    <tr>\n",
       "      <th>1</th>\n",
       "      <td>1</td>\n",
       "      <td>1</td>\n",
       "      <td>0</td>\n",
       "      <td>38.0</td>\n",
       "      <td>0</td>\n",
       "    </tr>\n",
       "    <tr>\n",
       "      <th>2</th>\n",
       "      <td>1</td>\n",
       "      <td>3</td>\n",
       "      <td>0</td>\n",
       "      <td>26.0</td>\n",
       "      <td>1</td>\n",
       "    </tr>\n",
       "    <tr>\n",
       "      <th>3</th>\n",
       "      <td>1</td>\n",
       "      <td>1</td>\n",
       "      <td>0</td>\n",
       "      <td>35.0</td>\n",
       "      <td>0</td>\n",
       "    </tr>\n",
       "    <tr>\n",
       "      <th>4</th>\n",
       "      <td>0</td>\n",
       "      <td>3</td>\n",
       "      <td>1</td>\n",
       "      <td>35.0</td>\n",
       "      <td>1</td>\n",
       "    </tr>\n",
       "    <tr>\n",
       "      <th>...</th>\n",
       "      <td>...</td>\n",
       "      <td>...</td>\n",
       "      <td>...</td>\n",
       "      <td>...</td>\n",
       "      <td>...</td>\n",
       "    </tr>\n",
       "    <tr>\n",
       "      <th>709</th>\n",
       "      <td>0</td>\n",
       "      <td>3</td>\n",
       "      <td>0</td>\n",
       "      <td>39.0</td>\n",
       "      <td>0</td>\n",
       "    </tr>\n",
       "    <tr>\n",
       "      <th>710</th>\n",
       "      <td>0</td>\n",
       "      <td>2</td>\n",
       "      <td>1</td>\n",
       "      <td>27.0</td>\n",
       "      <td>1</td>\n",
       "    </tr>\n",
       "    <tr>\n",
       "      <th>711</th>\n",
       "      <td>1</td>\n",
       "      <td>1</td>\n",
       "      <td>0</td>\n",
       "      <td>19.0</td>\n",
       "      <td>1</td>\n",
       "    </tr>\n",
       "    <tr>\n",
       "      <th>712</th>\n",
       "      <td>1</td>\n",
       "      <td>1</td>\n",
       "      <td>1</td>\n",
       "      <td>26.0</td>\n",
       "      <td>1</td>\n",
       "    </tr>\n",
       "    <tr>\n",
       "      <th>713</th>\n",
       "      <td>0</td>\n",
       "      <td>3</td>\n",
       "      <td>1</td>\n",
       "      <td>32.0</td>\n",
       "      <td>1</td>\n",
       "    </tr>\n",
       "  </tbody>\n",
       "</table>\n",
       "<p>714 rows × 5 columns</p>\n",
       "</div>"
      ],
      "text/plain": [
       "     survived  pclass  sex   age  alone\n",
       "0           0       3    1  22.0      0\n",
       "1           1       1    0  38.0      0\n",
       "2           1       3    0  26.0      1\n",
       "3           1       1    0  35.0      0\n",
       "4           0       3    1  35.0      1\n",
       "..        ...     ...  ...   ...    ...\n",
       "709         0       3    0  39.0      0\n",
       "710         0       2    1  27.0      1\n",
       "711         1       1    0  19.0      1\n",
       "712         1       1    1  26.0      1\n",
       "713         0       3    1  32.0      1\n",
       "\n",
       "[714 rows x 5 columns]"
      ]
     },
     "execution_count": 2,
     "metadata": {},
     "output_type": "execute_result"
    }
   ],
   "source": [
    "df = pd.read_excel('titanic.xlsx')\n",
    "df"
   ]
  },
  {
   "cell_type": "code",
   "execution_count": 3,
   "id": "b9bcd977",
   "metadata": {},
   "outputs": [],
   "source": [
    "X = df.drop('survived', axis = 1)\n",
    "y = df['survived']"
   ]
  },
  {
   "cell_type": "code",
   "execution_count": 4,
   "id": "7719af40",
   "metadata": {},
   "outputs": [
    {
     "data": {
      "text/plain": [
       "0    424\n",
       "1    290\n",
       "Name: survived, dtype: int64"
      ]
     },
     "execution_count": 4,
     "metadata": {},
     "output_type": "execute_result"
    }
   ],
   "source": [
    "y.value_counts()\n",
    "# 0 - не выжил\n",
    "# 1 - выжил"
   ]
  },
  {
   "cell_type": "code",
   "execution_count": 5,
   "id": "3e87842e",
   "metadata": {},
   "outputs": [],
   "source": [
    "from sklearn.model_selection import train_test_split\n",
    "\n",
    "# Разбиваем выборку на обучающую и тестовую\n",
    "X_train, X_test, y_train, y_test = train_test_split(X, y, test_size = 0.3, random_state = 42)"
   ]
  },
  {
   "cell_type": "code",
   "execution_count": 6,
   "id": "0535f960",
   "metadata": {},
   "outputs": [
    {
     "data": {
      "text/plain": [
       "0    298\n",
       "1    201\n",
       "Name: survived, dtype: int64"
      ]
     },
     "execution_count": 6,
     "metadata": {},
     "output_type": "execute_result"
    }
   ],
   "source": [
    "y_train.value_counts()"
   ]
  },
  {
   "cell_type": "code",
   "execution_count": 7,
   "id": "abc46f82",
   "metadata": {},
   "outputs": [
    {
     "data": {
      "text/plain": [
       "DecisionTreeClassifier(max_depth=2)"
      ]
     },
     "execution_count": 7,
     "metadata": {},
     "output_type": "execute_result"
    }
   ],
   "source": [
    "from sklearn.tree import DecisionTreeClassifier\n",
    "dtc = DecisionTreeClassifier(max_depth = 2) # максимальная глубина дерева 2\n",
    "dtc.fit(X_train, y_train) # Обучаем "
   ]
  },
  {
   "cell_type": "code",
   "execution_count": 8,
   "id": "4623b112",
   "metadata": {},
   "outputs": [
    {
     "name": "stdout",
     "output_type": "stream",
     "text": [
      "              precision    recall  f1-score   support\n",
      "\n",
      "           0       0.75      0.96      0.84       126\n",
      "           1       0.91      0.54      0.68        89\n",
      "\n",
      "    accuracy                           0.79       215\n",
      "   macro avg       0.83      0.75      0.76       215\n",
      "weighted avg       0.81      0.79      0.77       215\n",
      "\n"
     ]
    }
   ],
   "source": [
    "from sklearn.metrics import classification_report\n",
    "y_pred = dtc.predict(X_test) # Предсказываем метки классов для тестового набора\n",
    "print(classification_report(y_test, y_pred)) # Оценим качество"
   ]
  },
  {
   "cell_type": "code",
   "execution_count": 9,
   "id": "f49a82b1",
   "metadata": {},
   "outputs": [
    {
     "data": {
      "image/png": "[encoded data removed]",
      "text/plain": [
       "<Figure size 720x720 with 1 Axes>"
      ]
     },
     "metadata": {
      "needs_background": "light"
     },
     "output_type": "display_data"
    }
   ],
   "source": [
    "import matplotlib.pyplot as plt\n",
    "from sklearn.tree import plot_tree # Функция для отображения дерева\n",
    "plt.figure(figsize=(10,10)) \n",
    "plot_tree(dtc, feature_names = X.columns, class_names = ['died', 'survived'])\n",
    "plt.show()"
   ]
  },
  {
   "cell_type": "code",
   "execution_count": 10,
   "id": "240922d5",
   "metadata": {},
   "outputs": [
    {
     "data": {
      "text/plain": [
       "array([0.17470616, 0.73862343, 0.08667041, 0.        ])"
      ]
     },
     "execution_count": 10,
     "metadata": {},
     "output_type": "execute_result"
    }
   ],
   "source": [
    "dtc.feature_importances_ # Важность признаков"
   ]
  },
  {
   "cell_type": "code",
   "execution_count": 11,
   "id": "1e1ea4ad",
   "metadata": {},
   "outputs": [
    {
     "data": {
      "text/plain": [
       "1    320\n",
       "0    179\n",
       "Name: sex, dtype: int64"
      ]
     },
     "execution_count": 11,
     "metadata": {},
     "output_type": "execute_result"
    }
   ],
   "source": [
    "X_train['sex'].value_counts()"
   ]
  },
  {
   "cell_type": "code",
   "execution_count": 12,
   "id": "dba30eda",
   "metadata": {},
   "outputs": [
    {
     "data": {
      "text/plain": [
       "(0.67, 80.0)"
      ]
     },
     "execution_count": 12,
     "metadata": {},
     "output_type": "execute_result"
    }
   ],
   "source": [
    "X_train['age'].min(), X_train['age'].max()"
   ]
  }
 ],
 "metadata": {
  "kernelspec": {
   "display_name": "Python 3",
   "language": "python",
   "name": "python3"
  },
  "language_info": {
   "codemirror_mode": {
    "name": "ipython",
    "version": 3
   },
   "file_extension": ".py",
   "mimetype": "text/x-python",
   "name": "python",
   "nbconvert_exporter": "python",
   "pygments_lexer": "ipython3",
   "version": "3.8.8"
  }
 },
 "nbformat": 4,
 "nbformat_minor": 5
}
