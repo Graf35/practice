{
 "cells": [
  {
   "cell_type": "code",
   "execution_count": 37,
   "metadata": {},
   "outputs": [
    {
     "name": "stdout",
     "output_type": "stream",
     "text": [
      "Введите что нибудь: 987\n",
      "Сначало было 9, а потом было 7\n"
     ]
    }
   ],
   "source": [
    "a=input(\"Введите что нибудь: \")\n",
    "print(\"Сначало было \"+a[0]+\", а потом было \"+a[-1]) "
   ]
  },
  {
   "cell_type": "code",
   "execution_count": 2,
   "metadata": {},
   "outputs": [
    {
     "name": "stdout",
     "output_type": "stream",
     "text": [
      "Введите число х: 2\n",
      "Введите число y: 3\n",
      "6.0\n"
     ]
    }
   ],
   "source": [
    "x=float(input(\"Введите число х: \"))\n",
    "y=float(input(\"Введите число y: \"))\n",
    "print(x*y)"
   ]
  },
  {
   "cell_type": "code",
   "execution_count": 9,
   "metadata": {},
   "outputs": [
    {
     "name": "stdout",
     "output_type": "stream",
     "text": [
      "Введите что нибудь: 1234567890-\n"
     ]
    },
    {
     "data": {
      "text/plain": [
       "'12-0'"
      ]
     },
     "execution_count": 9,
     "metadata": {},
     "output_type": "execute_result"
    }
   ],
   "source": [
    "a=input(\"Введите что нибудь: \")\n",
    "''.join([a[0], a[1], a[-1], a[-2]])"
   ]
  },
  {
   "cell_type": "code",
   "execution_count": 12,
   "metadata": {},
   "outputs": [
    {
     "name": "stdout",
     "output_type": "stream",
     "text": [
      "[1999, 2000, 2001, 2002, 2003, 2004]\n"
     ]
    }
   ],
   "source": [
    "years_list=[1999]\n",
    "for i in range(5):\n",
    "    years_list.append(years_list[-1]+1)\n",
    "print(years_list)"
   ]
  },
  {
   "cell_type": "code",
   "execution_count": 13,
   "metadata": {},
   "outputs": [
    {
     "data": {
      "text/plain": [
       "2002"
      ]
     },
     "execution_count": 13,
     "metadata": {},
     "output_type": "execute_result"
    }
   ],
   "source": [
    "years_list[3]"
   ]
  },
  {
   "cell_type": "code",
   "execution_count": 25,
   "metadata": {},
   "outputs": [
    {
     "name": "stdout",
     "output_type": "stream",
     "text": [
      "['mozzarella', 'CINDERELLA', 'salmonella']\n"
     ]
    }
   ],
   "source": [
    "things=[\"mozzarella\", \"cinderella\", \"salmonella\"]\n",
    "things.insert(1, things[1].upper())\n",
    "del things[2]\n",
    "print(things)\n",
    "#Список изменился"
   ]
  },
  {
   "cell_type": "code",
   "execution_count": 26,
   "metadata": {},
   "outputs": [
    {
     "name": "stdout",
     "output_type": "stream",
     "text": [
      "['mozzarella', 'CINDERELLA']\n"
     ]
    }
   ],
   "source": [
    "del things[(things.index(\"salmonella\"))]\n",
    "print(things)"
   ]
  },
  {
   "cell_type": "code",
   "execution_count": 29,
   "metadata": {},
   "outputs": [
    {
     "name": "stdout",
     "output_type": "stream",
     "text": [
      "morse\n"
     ]
    }
   ],
   "source": [
    "e2f={\"dog\":\"chein\", \"cat\":\"chat\", \"walrus\":\"morse\"}\n",
    "print(e2f[\"walrus\"])"
   ]
  },
  {
   "cell_type": "code",
   "execution_count": 31,
   "metadata": {},
   "outputs": [],
   "source": [
    "life={\"animals\":{\"cats\":['Henri','Grumpy','Lucy'], 'octopi':\" \", 'emus':\" \"}, 'plants':\" \", 'other':\" \"}"
   ]
  },
  {
   "cell_type": "code",
   "execution_count": 36,
   "metadata": {},
   "outputs": [
    {
     "name": "stdout",
     "output_type": "stream",
     "text": [
      "dict_keys(['cats', 'octopi', 'emus'])\n",
      "dict_values([['Henri', 'Grumpy', 'Lucy'], ' ', ' '])\n"
     ]
    }
   ],
   "source": [
    "print(life[\"animals\"].keys())\n",
    "print(life[\"animals\"].values())"
   ]
  },
  {
   "cell_type": "code",
   "execution_count": null,
   "metadata": {},
   "outputs": [],
   "source": []
  }
 ],
 "metadata": {
  "kernelspec": {
   "display_name": "Python 3",
   "language": "python",
   "name": "python3"
  },
  "language_info": {
   "codemirror_mode": {
    "name": "ipython",
    "version": 3
   },
   "file_extension": ".py",
   "mimetype": "text/x-python",
   "name": "python",
   "nbconvert_exporter": "python",
   "pygments_lexer": "ipython3",
   "version": "3.8.8"
  }
 },
 "nbformat": 4,
 "nbformat_minor": 2
}
